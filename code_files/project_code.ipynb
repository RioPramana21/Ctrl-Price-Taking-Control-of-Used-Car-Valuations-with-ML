{
 "cells": [
  {
   "cell_type": "markdown",
   "id": "a4e64a4c",
   "metadata": {},
   "source": [
    "## 🚗 **Saudi Arabia Used-Car Price Optimization for Syarah.com**\n",
    "\n",
    "---\n",
    "\n",
    "### 🎯 **SCQA: Business Framing**\n",
    "\n",
    "**Situation:**\n",
    "Sellers on syarah.com, an online used-car marketplace in Saudi Arabia, regularly list vehicles for sale. Setting the right asking price is crucial for achieving timely sales and maintaining marketplace efficiency.\n",
    "\n",
    "**Complication:**\n",
    "Many sellers inaccurately price their vehicles due to limited market insights. Overpriced cars lead to slow sales and reduced marketplace liquidity, while underpriced cars result in lost profits for sellers and lower revenues for the platform.\n",
    "\n",
    "**Question:**\n",
    "How can syarah.com help sellers reliably set optimal asking prices to minimize pricing errors, accelerate sales, and improve both seller profitability and overall marketplace performance?\n",
    "\n",
    "**Answer:**\n",
    "Develop and deploy a robust machine-learning model that predicts accurate market-aligned prices for used cars, significantly reducing pricing errors. This will increase marketplace liquidity, accelerate sales, and maximize profit for both sellers and syarah.com.\n",
    "\n",
    "---\n",
    "\n",
    "### 📊 **Metrics & Evaluation**\n",
    "\n",
    "**Primary Metric:**\n",
    "\n",
    "* **Mean Absolute Error (MAE)** in Saudi Riyals (SAR)\n",
    "\n",
    "  * Clear interpretation: \"On average, our model is accurate within ±2,800 SAR.\"\n",
    "  * Symmetric penalty for both overpriced and underpriced listings.\n",
    "  * Robust against extreme high-price outliers.\n",
    "\n",
    "**Companion Metric:**\n",
    "\n",
    "* **Median Absolute Percentage Error (MdAPE)**\n",
    "\n",
    "  * Provides fairness across different price ranges.\n",
    "  * Offers clear interpretability: \"Half our predictions fall within ±X% of actual prices.\"\n",
    "\n",
    "**Business Impact Evaluation:**\n",
    "\n",
    "* Based on model accuracy (\\~5% MAE), assume predicted prices closely represent \"true market value.\"\n",
    "* Classify listings as:\n",
    "\n",
    "  * **Overpriced:** Actual price > 5% above model prediction.\n",
    "  * **Underpriced:** Actual price > 5% below model prediction.\n",
    "  * **Well-priced:** Within ±5% range.\n",
    "* Quantify business impact using:\n",
    "\n",
    "  * **Underpriced cars:** Calculate potential profit recovered (price gap).\n",
    "  * **Overpriced cars:** Estimate faster sale (e.g., assume 1 selling day saved per 2% price correction).\n",
    "\n",
    "---\n",
    "\n",
    "### 🤖 **Final Model & Benchmark Plan**\n",
    "\n",
    "**Baseline Model:**\n",
    "\n",
    "* **ElasticNet linear regression** (interpretable and simple)\n",
    "\n",
    "  * Expected MAE ≈ 6,700 SAR.\n",
    "\n",
    "**Final Selected Model:**\n",
    "\n",
    "* ✅ **CatBoost Regressor**\n",
    "\n",
    "  * Handles categorical variables natively (no need for extensive encoding).\n",
    "  * Provides built-in interpretability (SHAP values).\n",
    "  * Expected MAE ≈ 2,800 SAR (≈5% of average car price).\n",
    "\n",
    "**Additional Comparison Models (Optional):**\n",
    "\n",
    "* ✅ **XGBoost / LightGBM**\n",
    "\n",
    "  * For validation, robustness, or slight performance gains.\n",
    "\n",
    "---\n",
    "\n",
    "### 🔍 **Data Preparation & Feature Engineering**\n",
    "\n",
    "**Data Handling:**\n",
    "\n",
    "* Remove listings marked as \"Negotiable\" (`Price = 0`)—mentor-confirmed safe.\n",
    "* Light-touch outlier treatment (top 1% or ±3σ only) to match hidden test conditions.\n",
    "\n",
    "**Feature Engineering (Minimal, business-relevant):**\n",
    "\n",
    "* `CarAge = 2025 - Year`\n",
    "* Raw categorical features (`Make`, `Type`, `Region`, `Gear_Type`, `Options`) for CatBoost.\n",
    "\n",
    "---\n",
    "\n",
    "### 📉 **Model Interpretability**\n",
    "\n",
    "* Utilize **SHAP plots** (from CatBoost) to visually communicate feature importance to stakeholders.\n",
    "* Identify clear business insights (key pricing factors like Age, Mileage, Brand).\n",
    "\n",
    "---\n",
    "\n",
    "### 📈 **Deployment Scenario (Hypothetical)**\n",
    "\n",
    "* Model integrated directly into syarah.com’s user interface.\n",
    "* Sellers receive immediate, accurate price recommendations upon listing cars.\n",
    "* Marketplace moderators leverage predictions to identify and flag mispriced listings.\n",
    "\n",
    "---\n",
    "\n",
    "### 🧪 **Final Evaluation Plan**\n",
    "\n",
    "* Perform cross-validation (80/20 split, random or grouped by `Make`).\n",
    "* Evaluate and report metrics:\n",
    "\n",
    "  * MAE (primary) and MdAPE (companion).\n",
    "* Calculate and clearly present business impact (money saved, sales accelerated).\n",
    "\n",
    "---\n",
    "\n",
    "### 🚩 **Final Project Summary Table**\n",
    "\n",
    "| Aspect               | Final Decision                                                          |\n",
    "| -------------------- | ----------------------------------------------------------------------- |\n",
    "| **Stakeholder/User** | Hypothetical used-car marketplace (syarah.com)                          |\n",
    "| **Primary Metric**   | Mean Absolute Error (MAE) in SAR (\\~2,800 target, \\~5% of avg price)    |\n",
    "| **Companion Metric** | Median Absolute Percentage Error (MdAPE)                                |\n",
    "| **Benchmark Model**  | ElasticNet linear regression (\\~6,700 SAR MAE)                          |\n",
    "| **Final Model**      | CatBoost Regressor (\\~2,800 SAR MAE)                                    |\n",
    "| **Optional Models**  | XGBoost, LightGBM                                                       |\n",
    "| **Data Handling**    | Drop Negotiable prices, minimal outlier removal (top 1% or ±3σ)         |\n",
    "| **Business Impact**  | ±5% threshold for mispricing: calculate profit recovered & faster sales |\n",
    "| **Interpretability** | SHAP values (built-in CatBoost)                                         |\n",
    "\n",
    "---\n",
    "\n",
    "### ✨ **Concise One-Liner Project Narrative**\n",
    "\n",
    "> \"**I built a CatBoost model to help syarah.com accurately price used cars, significantly reducing typical seller mispricing errors, saving thousands of Riyals per car, accelerating marketplace sales, and enhancing overall platform performance.**\""
   ]
  },
  {
   "cell_type": "markdown",
   "id": "bce41a48",
   "metadata": {},
   "source": [
    "1. Normally, when the dataset has no missing data, do we still put in imputers in the model just in case the new real-world data has some missing data?\n",
    "2. What if the test set has a negotiable price in it? That would ruin my model performance especially if I decide to drop the negotiable rows as I do not have control over the test dataset\n",
    "3. Is choosing boosting methods like CatBoost or XGBoost and further Ensemble Methods fine? Or is it too much for a task like this and better to go for simpler models like multiple linear regression?"
   ]
  },
  {
   "cell_type": "markdown",
   "id": "a3c244e6",
   "metadata": {},
   "source": [
    "# Import Libraries & Dataset"
   ]
  },
  {
   "cell_type": "code",
   "execution_count": 1,
   "id": "3f20e7f5",
   "metadata": {},
   "outputs": [],
   "source": [
    "import pandas as pd\n",
    "import seaborn as sns\n",
    "import matplotlib.pyplot as plt"
   ]
  },
  {
   "cell_type": "code",
   "execution_count": 2,
   "id": "a3ac41fc",
   "metadata": {},
   "outputs": [],
   "source": [
    "DATASET_PATH = '../data/data_saudi_used_cars.csv'"
   ]
  },
  {
   "cell_type": "code",
   "execution_count": 3,
   "id": "a09b715d",
   "metadata": {},
   "outputs": [
    {
     "data": {
      "text/html": [
       "<div>\n",
       "<style scoped>\n",
       "    .dataframe tbody tr th:only-of-type {\n",
       "        vertical-align: middle;\n",
       "    }\n",
       "\n",
       "    .dataframe tbody tr th {\n",
       "        vertical-align: top;\n",
       "    }\n",
       "\n",
       "    .dataframe thead th {\n",
       "        text-align: right;\n",
       "    }\n",
       "</style>\n",
       "<table border=\"1\" class=\"dataframe\">\n",
       "  <thead>\n",
       "    <tr style=\"text-align: right;\">\n",
       "      <th></th>\n",
       "      <th>Type</th>\n",
       "      <th>Region</th>\n",
       "      <th>Make</th>\n",
       "      <th>Gear_Type</th>\n",
       "      <th>Origin</th>\n",
       "      <th>Options</th>\n",
       "      <th>Year</th>\n",
       "      <th>Engine_Size</th>\n",
       "      <th>Mileage</th>\n",
       "      <th>Negotiable</th>\n",
       "      <th>Price</th>\n",
       "    </tr>\n",
       "  </thead>\n",
       "  <tbody>\n",
       "    <tr>\n",
       "      <th>0</th>\n",
       "      <td>Corolla</td>\n",
       "      <td>Abha</td>\n",
       "      <td>Toyota</td>\n",
       "      <td>Manual</td>\n",
       "      <td>Saudi</td>\n",
       "      <td>Standard</td>\n",
       "      <td>2013</td>\n",
       "      <td>1.4</td>\n",
       "      <td>421000</td>\n",
       "      <td>True</td>\n",
       "      <td>0</td>\n",
       "    </tr>\n",
       "    <tr>\n",
       "      <th>1</th>\n",
       "      <td>Yukon</td>\n",
       "      <td>Riyadh</td>\n",
       "      <td>GMC</td>\n",
       "      <td>Automatic</td>\n",
       "      <td>Saudi</td>\n",
       "      <td>Full</td>\n",
       "      <td>2014</td>\n",
       "      <td>8.0</td>\n",
       "      <td>80000</td>\n",
       "      <td>False</td>\n",
       "      <td>120000</td>\n",
       "    </tr>\n",
       "    <tr>\n",
       "      <th>2</th>\n",
       "      <td>Range Rover</td>\n",
       "      <td>Riyadh</td>\n",
       "      <td>Land Rover</td>\n",
       "      <td>Automatic</td>\n",
       "      <td>Gulf Arabic</td>\n",
       "      <td>Full</td>\n",
       "      <td>2015</td>\n",
       "      <td>5.0</td>\n",
       "      <td>140000</td>\n",
       "      <td>False</td>\n",
       "      <td>260000</td>\n",
       "    </tr>\n",
       "    <tr>\n",
       "      <th>3</th>\n",
       "      <td>Optima</td>\n",
       "      <td>Hafar Al-Batin</td>\n",
       "      <td>Kia</td>\n",
       "      <td>Automatic</td>\n",
       "      <td>Saudi</td>\n",
       "      <td>Semi Full</td>\n",
       "      <td>2015</td>\n",
       "      <td>2.4</td>\n",
       "      <td>220000</td>\n",
       "      <td>False</td>\n",
       "      <td>42000</td>\n",
       "    </tr>\n",
       "    <tr>\n",
       "      <th>4</th>\n",
       "      <td>FJ</td>\n",
       "      <td>Riyadh</td>\n",
       "      <td>Toyota</td>\n",
       "      <td>Automatic</td>\n",
       "      <td>Saudi</td>\n",
       "      <td>Full</td>\n",
       "      <td>2020</td>\n",
       "      <td>4.0</td>\n",
       "      <td>49000</td>\n",
       "      <td>True</td>\n",
       "      <td>0</td>\n",
       "    </tr>\n",
       "  </tbody>\n",
       "</table>\n",
       "</div>"
      ],
      "text/plain": [
       "          Type          Region        Make  Gear_Type       Origin    Options  \\\n",
       "0      Corolla            Abha      Toyota     Manual        Saudi   Standard   \n",
       "1        Yukon          Riyadh         GMC  Automatic        Saudi       Full   \n",
       "2  Range Rover          Riyadh  Land Rover  Automatic  Gulf Arabic       Full   \n",
       "3       Optima  Hafar Al-Batin         Kia  Automatic        Saudi  Semi Full   \n",
       "4           FJ          Riyadh      Toyota  Automatic        Saudi       Full   \n",
       "\n",
       "   Year  Engine_Size  Mileage  Negotiable   Price  \n",
       "0  2013          1.4   421000        True       0  \n",
       "1  2014          8.0    80000       False  120000  \n",
       "2  2015          5.0   140000       False  260000  \n",
       "3  2015          2.4   220000       False   42000  \n",
       "4  2020          4.0    49000        True       0  "
      ]
     },
     "execution_count": 3,
     "metadata": {},
     "output_type": "execute_result"
    }
   ],
   "source": [
    "df = pd.read_csv(DATASET_PATH)\n",
    "df.head()"
   ]
  },
  {
   "cell_type": "markdown",
   "id": "8baf1e0d",
   "metadata": {},
   "source": [
    "# Data Understanding"
   ]
  },
  {
   "cell_type": "code",
   "execution_count": 4,
   "id": "e9779749",
   "metadata": {},
   "outputs": [
    {
     "name": "stdout",
     "output_type": "stream",
     "text": [
      "<class 'pandas.core.frame.DataFrame'>\n",
      "RangeIndex: 5624 entries, 0 to 5623\n",
      "Data columns (total 11 columns):\n",
      " #   Column       Non-Null Count  Dtype  \n",
      "---  ------       --------------  -----  \n",
      " 0   Type         5624 non-null   object \n",
      " 1   Region       5624 non-null   object \n",
      " 2   Make         5624 non-null   object \n",
      " 3   Gear_Type    5624 non-null   object \n",
      " 4   Origin       5624 non-null   object \n",
      " 5   Options      5624 non-null   object \n",
      " 6   Year         5624 non-null   int64  \n",
      " 7   Engine_Size  5624 non-null   float64\n",
      " 8   Mileage      5624 non-null   int64  \n",
      " 9   Negotiable   5624 non-null   bool   \n",
      " 10  Price        5624 non-null   int64  \n",
      "dtypes: bool(1), float64(1), int64(3), object(6)\n",
      "memory usage: 445.0+ KB\n"
     ]
    }
   ],
   "source": [
    "df.info()"
   ]
  },
  {
   "cell_type": "code",
   "execution_count": 5,
   "id": "71794824",
   "metadata": {},
   "outputs": [
    {
     "data": {
      "text/plain": [
       "Type           0\n",
       "Region         0\n",
       "Make           0\n",
       "Gear_Type      0\n",
       "Origin         0\n",
       "Options        0\n",
       "Year           0\n",
       "Engine_Size    0\n",
       "Mileage        0\n",
       "Negotiable     0\n",
       "Price          0\n",
       "dtype: int64"
      ]
     },
     "execution_count": 5,
     "metadata": {},
     "output_type": "execute_result"
    }
   ],
   "source": [
    "df.isna().sum()"
   ]
  },
  {
   "cell_type": "markdown",
   "id": "e4633bc5",
   "metadata": {},
   "source": [
    "From the result above, we have 5624 rows of data with no missing values. We have 6 categorical columns, 1 boolean column, and 4 numerical columns. All data types looks correct except `Price` (need a deeper look and consider converting it into a float)."
   ]
  },
  {
   "cell_type": "code",
   "execution_count": 6,
   "id": "f2a89060",
   "metadata": {},
   "outputs": [
    {
     "data": {
      "text/plain": [
       "4"
      ]
     },
     "execution_count": 6,
     "metadata": {},
     "output_type": "execute_result"
    }
   ],
   "source": [
    "df.duplicated().sum()"
   ]
  },
  {
   "cell_type": "code",
   "execution_count": 7,
   "id": "05dc4e96",
   "metadata": {},
   "outputs": [
    {
     "data": {
      "text/html": [
       "<div>\n",
       "<style scoped>\n",
       "    .dataframe tbody tr th:only-of-type {\n",
       "        vertical-align: middle;\n",
       "    }\n",
       "\n",
       "    .dataframe tbody tr th {\n",
       "        vertical-align: top;\n",
       "    }\n",
       "\n",
       "    .dataframe thead th {\n",
       "        text-align: right;\n",
       "    }\n",
       "</style>\n",
       "<table border=\"1\" class=\"dataframe\">\n",
       "  <thead>\n",
       "    <tr style=\"text-align: right;\">\n",
       "      <th></th>\n",
       "      <th>Type</th>\n",
       "      <th>Region</th>\n",
       "      <th>Make</th>\n",
       "      <th>Gear_Type</th>\n",
       "      <th>Origin</th>\n",
       "      <th>Options</th>\n",
       "      <th>Year</th>\n",
       "      <th>Engine_Size</th>\n",
       "      <th>Mileage</th>\n",
       "      <th>Negotiable</th>\n",
       "      <th>Price</th>\n",
       "    </tr>\n",
       "  </thead>\n",
       "  <tbody>\n",
       "    <tr>\n",
       "      <th>236</th>\n",
       "      <td>Sonata</td>\n",
       "      <td>Jeddah</td>\n",
       "      <td>Hyundai</td>\n",
       "      <td>Automatic</td>\n",
       "      <td>Saudi</td>\n",
       "      <td>Standard</td>\n",
       "      <td>2020</td>\n",
       "      <td>2.4</td>\n",
       "      <td>100</td>\n",
       "      <td>False</td>\n",
       "      <td>72910</td>\n",
       "    </tr>\n",
       "    <tr>\n",
       "      <th>540</th>\n",
       "      <td>Rio</td>\n",
       "      <td>Riyadh</td>\n",
       "      <td>Kia</td>\n",
       "      <td>Automatic</td>\n",
       "      <td>Saudi</td>\n",
       "      <td>Standard</td>\n",
       "      <td>2016</td>\n",
       "      <td>1.4</td>\n",
       "      <td>270000</td>\n",
       "      <td>False</td>\n",
       "      <td>25000</td>\n",
       "    </tr>\n",
       "    <tr>\n",
       "      <th>953</th>\n",
       "      <td>Rio</td>\n",
       "      <td>Riyadh</td>\n",
       "      <td>Kia</td>\n",
       "      <td>Automatic</td>\n",
       "      <td>Saudi</td>\n",
       "      <td>Standard</td>\n",
       "      <td>2016</td>\n",
       "      <td>1.4</td>\n",
       "      <td>270000</td>\n",
       "      <td>False</td>\n",
       "      <td>25000</td>\n",
       "    </tr>\n",
       "    <tr>\n",
       "      <th>2012</th>\n",
       "      <td>Tucson</td>\n",
       "      <td>Dammam</td>\n",
       "      <td>Hyundai</td>\n",
       "      <td>Automatic</td>\n",
       "      <td>Saudi</td>\n",
       "      <td>Standard</td>\n",
       "      <td>2016</td>\n",
       "      <td>2.0</td>\n",
       "      <td>155000</td>\n",
       "      <td>False</td>\n",
       "      <td>45000</td>\n",
       "    </tr>\n",
       "    <tr>\n",
       "      <th>3631</th>\n",
       "      <td>Camry</td>\n",
       "      <td>Riyadh</td>\n",
       "      <td>Toyota</td>\n",
       "      <td>Automatic</td>\n",
       "      <td>Saudi</td>\n",
       "      <td>Full</td>\n",
       "      <td>2013</td>\n",
       "      <td>2.5</td>\n",
       "      <td>185000</td>\n",
       "      <td>True</td>\n",
       "      <td>0</td>\n",
       "    </tr>\n",
       "    <tr>\n",
       "      <th>4646</th>\n",
       "      <td>Sonata</td>\n",
       "      <td>Jeddah</td>\n",
       "      <td>Hyundai</td>\n",
       "      <td>Automatic</td>\n",
       "      <td>Saudi</td>\n",
       "      <td>Standard</td>\n",
       "      <td>2020</td>\n",
       "      <td>2.4</td>\n",
       "      <td>100</td>\n",
       "      <td>False</td>\n",
       "      <td>72910</td>\n",
       "    </tr>\n",
       "    <tr>\n",
       "      <th>4933</th>\n",
       "      <td>Tucson</td>\n",
       "      <td>Dammam</td>\n",
       "      <td>Hyundai</td>\n",
       "      <td>Automatic</td>\n",
       "      <td>Saudi</td>\n",
       "      <td>Standard</td>\n",
       "      <td>2016</td>\n",
       "      <td>2.0</td>\n",
       "      <td>155000</td>\n",
       "      <td>False</td>\n",
       "      <td>45000</td>\n",
       "    </tr>\n",
       "    <tr>\n",
       "      <th>5267</th>\n",
       "      <td>Camry</td>\n",
       "      <td>Riyadh</td>\n",
       "      <td>Toyota</td>\n",
       "      <td>Automatic</td>\n",
       "      <td>Saudi</td>\n",
       "      <td>Full</td>\n",
       "      <td>2013</td>\n",
       "      <td>2.5</td>\n",
       "      <td>185000</td>\n",
       "      <td>True</td>\n",
       "      <td>0</td>\n",
       "    </tr>\n",
       "  </tbody>\n",
       "</table>\n",
       "</div>"
      ],
      "text/plain": [
       "        Type  Region     Make  Gear_Type Origin   Options  Year  Engine_Size  \\\n",
       "236   Sonata  Jeddah  Hyundai  Automatic  Saudi  Standard  2020          2.4   \n",
       "540      Rio  Riyadh      Kia  Automatic  Saudi  Standard  2016          1.4   \n",
       "953      Rio  Riyadh      Kia  Automatic  Saudi  Standard  2016          1.4   \n",
       "2012  Tucson  Dammam  Hyundai  Automatic  Saudi  Standard  2016          2.0   \n",
       "3631   Camry  Riyadh   Toyota  Automatic  Saudi      Full  2013          2.5   \n",
       "4646  Sonata  Jeddah  Hyundai  Automatic  Saudi  Standard  2020          2.4   \n",
       "4933  Tucson  Dammam  Hyundai  Automatic  Saudi  Standard  2016          2.0   \n",
       "5267   Camry  Riyadh   Toyota  Automatic  Saudi      Full  2013          2.5   \n",
       "\n",
       "      Mileage  Negotiable  Price  \n",
       "236       100       False  72910  \n",
       "540    270000       False  25000  \n",
       "953    270000       False  25000  \n",
       "2012   155000       False  45000  \n",
       "3631   185000        True      0  \n",
       "4646      100       False  72910  \n",
       "4933   155000       False  45000  \n",
       "5267   185000        True      0  "
      ]
     },
     "execution_count": 7,
     "metadata": {},
     "output_type": "execute_result"
    }
   ],
   "source": [
    "df[df.duplicated(keep=False)]"
   ]
  },
  {
   "cell_type": "markdown",
   "id": "548fe1e3",
   "metadata": {},
   "source": [
    "There are 4 exact duplicates found in the dataset. After inspection, it is safe to remove these duplicates since these duplicates do not contain any meaningful data/context for our predictive model."
   ]
  },
  {
   "cell_type": "code",
   "execution_count": 8,
   "id": "402507fb",
   "metadata": {},
   "outputs": [
    {
     "data": {
      "text/plain": [
       "5620"
      ]
     },
     "execution_count": 8,
     "metadata": {},
     "output_type": "execute_result"
    }
   ],
   "source": [
    "df = df.drop_duplicates()\n",
    "df.shape[0]"
   ]
  },
  {
   "cell_type": "markdown",
   "id": "be826bb1",
   "metadata": {},
   "source": [
    "### Excluding Negotiable Prices\n",
    "\n",
    "In this dataset, car listings with `\"Negotiable\" = True` have a `Price` value of **0**, which does not reflect the actual market price. Including these rows would:\n",
    "\n",
    "- **Distort distribution** of price-related statistics (mean, median, outliers)\n",
    "- **Skew visualizations** like boxplots or scatter plots\n",
    "- **Confuse model training**, since a price of 0 is not a valid learning signal\n",
    "\n",
    "### Solution:\n",
    "I exclude `Negotiable == True` rows from:\n",
    "- Exploratory Data Analysis (EDA)\n",
    "- Model training and evaluation\n",
    "\n",
    "This ensures that I train and evaluate our model only on cars with fixed, known prices, leading to more accurate and reliable insights."
   ]
  },
  {
   "cell_type": "code",
   "execution_count": 9,
   "id": "738ca61c",
   "metadata": {},
   "outputs": [
    {
     "name": "stdout",
     "output_type": "stream",
     "text": [
      "Number of cars with Negotiable=True: 1795\n",
      "Percentage of cars with Negotiable=True: 31.94%\n",
      "\n",
      "Number of negotiable cars with Price=0: 1795\n",
      "Percentage of negotiable cars with Price=0: 100.00%\n"
     ]
    }
   ],
   "source": [
    "# Calculate the number of rows with Negotiable as True\n",
    "negotiable_true_count = df['Negotiable'].sum()\n",
    "\n",
    "# Calculate the percentage\n",
    "negotiable_true_percentage = (negotiable_true_count / len(df)) * 100\n",
    "\n",
    "print(f\"Number of cars with Negotiable=True: {negotiable_true_count}\")\n",
    "print(f\"Percentage of cars with Negotiable=True: {negotiable_true_percentage:.2f}%\")\n",
    "\n",
    "# Check how many of these have Price = 0\n",
    "negotiable_zero_price = df[(df['Negotiable'] == True) & (df['Price'] == 0)]\n",
    "print(f\"\\nNumber of negotiable cars with Price=0: {len(negotiable_zero_price)}\")\n",
    "print(f\"Percentage of negotiable cars with Price=0: {(len(negotiable_zero_price) / negotiable_true_count) * 100:.2f}%\")"
   ]
  },
  {
   "cell_type": "code",
   "execution_count": 10,
   "id": "ebb2e703",
   "metadata": {},
   "outputs": [],
   "source": [
    "df_filtered = df[df['Negotiable'] == False]"
   ]
  },
  {
   "cell_type": "markdown",
   "id": "d2693290",
   "metadata": {},
   "source": [
    "### Finding Invalid Price Value (Price == 0)"
   ]
  },
  {
   "cell_type": "code",
   "execution_count": 11,
   "id": "3176ecc8",
   "metadata": {},
   "outputs": [
    {
     "data": {
      "text/html": [
       "<div>\n",
       "<style scoped>\n",
       "    .dataframe tbody tr th:only-of-type {\n",
       "        vertical-align: middle;\n",
       "    }\n",
       "\n",
       "    .dataframe tbody tr th {\n",
       "        vertical-align: top;\n",
       "    }\n",
       "\n",
       "    .dataframe thead th {\n",
       "        text-align: right;\n",
       "    }\n",
       "</style>\n",
       "<table border=\"1\" class=\"dataframe\">\n",
       "  <thead>\n",
       "    <tr style=\"text-align: right;\">\n",
       "      <th></th>\n",
       "      <th>Type</th>\n",
       "      <th>Region</th>\n",
       "      <th>Make</th>\n",
       "      <th>Gear_Type</th>\n",
       "      <th>Origin</th>\n",
       "      <th>Options</th>\n",
       "      <th>Year</th>\n",
       "      <th>Engine_Size</th>\n",
       "      <th>Mileage</th>\n",
       "      <th>Negotiable</th>\n",
       "      <th>Price</th>\n",
       "    </tr>\n",
       "  </thead>\n",
       "  <tbody>\n",
       "    <tr>\n",
       "      <th>3168</th>\n",
       "      <td>Furniture</td>\n",
       "      <td>Riyadh</td>\n",
       "      <td>Toyota</td>\n",
       "      <td>Automatic</td>\n",
       "      <td>Other</td>\n",
       "      <td>Semi Full</td>\n",
       "      <td>2012</td>\n",
       "      <td>2.7</td>\n",
       "      <td>225000</td>\n",
       "      <td>False</td>\n",
       "      <td>0</td>\n",
       "    </tr>\n",
       "  </tbody>\n",
       "</table>\n",
       "</div>"
      ],
      "text/plain": [
       "           Type  Region    Make  Gear_Type Origin    Options  Year  \\\n",
       "3168  Furniture  Riyadh  Toyota  Automatic  Other  Semi Full  2012   \n",
       "\n",
       "      Engine_Size  Mileage  Negotiable  Price  \n",
       "3168          2.7   225000       False      0  "
      ]
     },
     "execution_count": 11,
     "metadata": {},
     "output_type": "execute_result"
    }
   ],
   "source": [
    "df_filtered[df_filtered['Price'] == 0]"
   ]
  },
  {
   "cell_type": "markdown",
   "id": "c74f3ac0",
   "metadata": {},
   "source": [
    "After filtering the Negotiable prices, it is found that there is 1 listing with a price of 0 even though it is non-negotiable. This value is considered as invalid as it is not realistic for a person to sell a car for free. Therefore, I will exclude this from the dataset as well."
   ]
  },
  {
   "cell_type": "code",
   "execution_count": 12,
   "id": "312abde8",
   "metadata": {},
   "outputs": [],
   "source": [
    "df_filtered = df_filtered[df_filtered['Price'] > 0]"
   ]
  },
  {
   "cell_type": "markdown",
   "id": "4111350d",
   "metadata": {},
   "source": [
    "Data before initial cleaning:"
   ]
  },
  {
   "cell_type": "code",
   "execution_count": 39,
   "id": "01d9971e",
   "metadata": {},
   "outputs": [
    {
     "data": {
      "text/html": [
       "<div>\n",
       "<style scoped>\n",
       "    .dataframe tbody tr th:only-of-type {\n",
       "        vertical-align: middle;\n",
       "    }\n",
       "\n",
       "    .dataframe tbody tr th {\n",
       "        vertical-align: top;\n",
       "    }\n",
       "\n",
       "    .dataframe thead th {\n",
       "        text-align: right;\n",
       "    }\n",
       "</style>\n",
       "<table border=\"1\" class=\"dataframe\">\n",
       "  <thead>\n",
       "    <tr style=\"text-align: right;\">\n",
       "      <th></th>\n",
       "      <th>Type</th>\n",
       "      <th>Region</th>\n",
       "      <th>Make</th>\n",
       "      <th>Gear_Type</th>\n",
       "      <th>Origin</th>\n",
       "      <th>Options</th>\n",
       "      <th>Year</th>\n",
       "      <th>Engine_Size</th>\n",
       "      <th>Mileage</th>\n",
       "      <th>Negotiable</th>\n",
       "      <th>Price</th>\n",
       "    </tr>\n",
       "  </thead>\n",
       "  <tbody>\n",
       "    <tr>\n",
       "      <th>count</th>\n",
       "      <td>5620</td>\n",
       "      <td>5620</td>\n",
       "      <td>5620</td>\n",
       "      <td>5620</td>\n",
       "      <td>5620</td>\n",
       "      <td>5620</td>\n",
       "      <td>5620.000000</td>\n",
       "      <td>5620.000000</td>\n",
       "      <td>5.620000e+03</td>\n",
       "      <td>5620</td>\n",
       "      <td>5620.000000</td>\n",
       "    </tr>\n",
       "    <tr>\n",
       "      <th>unique</th>\n",
       "      <td>347</td>\n",
       "      <td>27</td>\n",
       "      <td>58</td>\n",
       "      <td>2</td>\n",
       "      <td>4</td>\n",
       "      <td>3</td>\n",
       "      <td>NaN</td>\n",
       "      <td>NaN</td>\n",
       "      <td>NaN</td>\n",
       "      <td>2</td>\n",
       "      <td>NaN</td>\n",
       "    </tr>\n",
       "    <tr>\n",
       "      <th>top</th>\n",
       "      <td>Land Cruiser</td>\n",
       "      <td>Riyadh</td>\n",
       "      <td>Toyota</td>\n",
       "      <td>Automatic</td>\n",
       "      <td>Saudi</td>\n",
       "      <td>Full</td>\n",
       "      <td>NaN</td>\n",
       "      <td>NaN</td>\n",
       "      <td>NaN</td>\n",
       "      <td>False</td>\n",
       "      <td>NaN</td>\n",
       "    </tr>\n",
       "    <tr>\n",
       "      <th>freq</th>\n",
       "      <td>269</td>\n",
       "      <td>2270</td>\n",
       "      <td>1430</td>\n",
       "      <td>4871</td>\n",
       "      <td>4184</td>\n",
       "      <td>2232</td>\n",
       "      <td>NaN</td>\n",
       "      <td>NaN</td>\n",
       "      <td>NaN</td>\n",
       "      <td>3825</td>\n",
       "      <td>NaN</td>\n",
       "    </tr>\n",
       "    <tr>\n",
       "      <th>mean</th>\n",
       "      <td>NaN</td>\n",
       "      <td>NaN</td>\n",
       "      <td>NaN</td>\n",
       "      <td>NaN</td>\n",
       "      <td>NaN</td>\n",
       "      <td>NaN</td>\n",
       "      <td>2014.100356</td>\n",
       "      <td>3.296299</td>\n",
       "      <td>1.509222e+05</td>\n",
       "      <td>NaN</td>\n",
       "      <td>53086.404448</td>\n",
       "    </tr>\n",
       "    <tr>\n",
       "      <th>std</th>\n",
       "      <td>NaN</td>\n",
       "      <td>NaN</td>\n",
       "      <td>NaN</td>\n",
       "      <td>NaN</td>\n",
       "      <td>NaN</td>\n",
       "      <td>NaN</td>\n",
       "      <td>5.793003</td>\n",
       "      <td>1.515253</td>\n",
       "      <td>3.829633e+05</td>\n",
       "      <td>NaN</td>\n",
       "      <td>70175.153207</td>\n",
       "    </tr>\n",
       "    <tr>\n",
       "      <th>min</th>\n",
       "      <td>NaN</td>\n",
       "      <td>NaN</td>\n",
       "      <td>NaN</td>\n",
       "      <td>NaN</td>\n",
       "      <td>NaN</td>\n",
       "      <td>NaN</td>\n",
       "      <td>1963.000000</td>\n",
       "      <td>1.000000</td>\n",
       "      <td>1.000000e+02</td>\n",
       "      <td>NaN</td>\n",
       "      <td>0.000000</td>\n",
       "    </tr>\n",
       "    <tr>\n",
       "      <th>25%</th>\n",
       "      <td>NaN</td>\n",
       "      <td>NaN</td>\n",
       "      <td>NaN</td>\n",
       "      <td>NaN</td>\n",
       "      <td>NaN</td>\n",
       "      <td>NaN</td>\n",
       "      <td>2012.000000</td>\n",
       "      <td>2.000000</td>\n",
       "      <td>3.800000e+04</td>\n",
       "      <td>NaN</td>\n",
       "      <td>0.000000</td>\n",
       "    </tr>\n",
       "    <tr>\n",
       "      <th>50%</th>\n",
       "      <td>NaN</td>\n",
       "      <td>NaN</td>\n",
       "      <td>NaN</td>\n",
       "      <td>NaN</td>\n",
       "      <td>NaN</td>\n",
       "      <td>NaN</td>\n",
       "      <td>2016.000000</td>\n",
       "      <td>3.000000</td>\n",
       "      <td>1.030000e+05</td>\n",
       "      <td>NaN</td>\n",
       "      <td>36500.000000</td>\n",
       "    </tr>\n",
       "    <tr>\n",
       "      <th>75%</th>\n",
       "      <td>NaN</td>\n",
       "      <td>NaN</td>\n",
       "      <td>NaN</td>\n",
       "      <td>NaN</td>\n",
       "      <td>NaN</td>\n",
       "      <td>NaN</td>\n",
       "      <td>2018.000000</td>\n",
       "      <td>4.500000</td>\n",
       "      <td>1.960000e+05</td>\n",
       "      <td>NaN</td>\n",
       "      <td>73000.000000</td>\n",
       "    </tr>\n",
       "    <tr>\n",
       "      <th>max</th>\n",
       "      <td>NaN</td>\n",
       "      <td>NaN</td>\n",
       "      <td>NaN</td>\n",
       "      <td>NaN</td>\n",
       "      <td>NaN</td>\n",
       "      <td>NaN</td>\n",
       "      <td>2022.000000</td>\n",
       "      <td>9.000000</td>\n",
       "      <td>2.000000e+07</td>\n",
       "      <td>NaN</td>\n",
       "      <td>850000.000000</td>\n",
       "    </tr>\n",
       "  </tbody>\n",
       "</table>\n",
       "</div>"
      ],
      "text/plain": [
       "                Type  Region    Make  Gear_Type Origin Options         Year  \\\n",
       "count           5620    5620    5620       5620   5620    5620  5620.000000   \n",
       "unique           347      27      58          2      4       3          NaN   \n",
       "top     Land Cruiser  Riyadh  Toyota  Automatic  Saudi    Full          NaN   \n",
       "freq             269    2270    1430       4871   4184    2232          NaN   \n",
       "mean             NaN     NaN     NaN        NaN    NaN     NaN  2014.100356   \n",
       "std              NaN     NaN     NaN        NaN    NaN     NaN     5.793003   \n",
       "min              NaN     NaN     NaN        NaN    NaN     NaN  1963.000000   \n",
       "25%              NaN     NaN     NaN        NaN    NaN     NaN  2012.000000   \n",
       "50%              NaN     NaN     NaN        NaN    NaN     NaN  2016.000000   \n",
       "75%              NaN     NaN     NaN        NaN    NaN     NaN  2018.000000   \n",
       "max              NaN     NaN     NaN        NaN    NaN     NaN  2022.000000   \n",
       "\n",
       "        Engine_Size       Mileage Negotiable          Price  \n",
       "count   5620.000000  5.620000e+03       5620    5620.000000  \n",
       "unique          NaN           NaN          2            NaN  \n",
       "top             NaN           NaN      False            NaN  \n",
       "freq            NaN           NaN       3825            NaN  \n",
       "mean       3.296299  1.509222e+05        NaN   53086.404448  \n",
       "std        1.515253  3.829633e+05        NaN   70175.153207  \n",
       "min        1.000000  1.000000e+02        NaN       0.000000  \n",
       "25%        2.000000  3.800000e+04        NaN       0.000000  \n",
       "50%        3.000000  1.030000e+05        NaN   36500.000000  \n",
       "75%        4.500000  1.960000e+05        NaN   73000.000000  \n",
       "max        9.000000  2.000000e+07        NaN  850000.000000  "
      ]
     },
     "execution_count": 39,
     "metadata": {},
     "output_type": "execute_result"
    }
   ],
   "source": [
    "df.describe(include='all')"
   ]
  },
  {
   "cell_type": "markdown",
   "id": "0bc214fa",
   "metadata": {},
   "source": [
    "Data after initial cleaning:"
   ]
  },
  {
   "cell_type": "code",
   "execution_count": 13,
   "id": "83c6b74d",
   "metadata": {},
   "outputs": [
    {
     "data": {
      "text/html": [
       "<div>\n",
       "<style scoped>\n",
       "    .dataframe tbody tr th:only-of-type {\n",
       "        vertical-align: middle;\n",
       "    }\n",
       "\n",
       "    .dataframe tbody tr th {\n",
       "        vertical-align: top;\n",
       "    }\n",
       "\n",
       "    .dataframe thead th {\n",
       "        text-align: right;\n",
       "    }\n",
       "</style>\n",
       "<table border=\"1\" class=\"dataframe\">\n",
       "  <thead>\n",
       "    <tr style=\"text-align: right;\">\n",
       "      <th></th>\n",
       "      <th>Type</th>\n",
       "      <th>Region</th>\n",
       "      <th>Make</th>\n",
       "      <th>Gear_Type</th>\n",
       "      <th>Origin</th>\n",
       "      <th>Options</th>\n",
       "      <th>Year</th>\n",
       "      <th>Engine_Size</th>\n",
       "      <th>Mileage</th>\n",
       "      <th>Negotiable</th>\n",
       "      <th>Price</th>\n",
       "    </tr>\n",
       "  </thead>\n",
       "  <tbody>\n",
       "    <tr>\n",
       "      <th>count</th>\n",
       "      <td>3824</td>\n",
       "      <td>3824</td>\n",
       "      <td>3824</td>\n",
       "      <td>3824</td>\n",
       "      <td>3824</td>\n",
       "      <td>3824</td>\n",
       "      <td>3824.000000</td>\n",
       "      <td>3824.000000</td>\n",
       "      <td>3.824000e+03</td>\n",
       "      <td>3824</td>\n",
       "      <td>3824.000000</td>\n",
       "    </tr>\n",
       "    <tr>\n",
       "      <th>unique</th>\n",
       "      <td>320</td>\n",
       "      <td>27</td>\n",
       "      <td>56</td>\n",
       "      <td>2</td>\n",
       "      <td>4</td>\n",
       "      <td>3</td>\n",
       "      <td>NaN</td>\n",
       "      <td>NaN</td>\n",
       "      <td>NaN</td>\n",
       "      <td>1</td>\n",
       "      <td>NaN</td>\n",
       "    </tr>\n",
       "    <tr>\n",
       "      <th>top</th>\n",
       "      <td>Camry</td>\n",
       "      <td>Riyadh</td>\n",
       "      <td>Toyota</td>\n",
       "      <td>Automatic</td>\n",
       "      <td>Saudi</td>\n",
       "      <td>Full</td>\n",
       "      <td>NaN</td>\n",
       "      <td>NaN</td>\n",
       "      <td>NaN</td>\n",
       "      <td>False</td>\n",
       "      <td>NaN</td>\n",
       "    </tr>\n",
       "    <tr>\n",
       "      <th>freq</th>\n",
       "      <td>149</td>\n",
       "      <td>1615</td>\n",
       "      <td>889</td>\n",
       "      <td>3420</td>\n",
       "      <td>2893</td>\n",
       "      <td>1473</td>\n",
       "      <td>NaN</td>\n",
       "      <td>NaN</td>\n",
       "      <td>NaN</td>\n",
       "      <td>3824</td>\n",
       "      <td>NaN</td>\n",
       "    </tr>\n",
       "    <tr>\n",
       "      <th>mean</th>\n",
       "      <td>NaN</td>\n",
       "      <td>NaN</td>\n",
       "      <td>NaN</td>\n",
       "      <td>NaN</td>\n",
       "      <td>NaN</td>\n",
       "      <td>NaN</td>\n",
       "      <td>2014.851203</td>\n",
       "      <td>3.181119</td>\n",
       "      <td>1.426211e+05</td>\n",
       "      <td>NaN</td>\n",
       "      <td>78019.245031</td>\n",
       "    </tr>\n",
       "    <tr>\n",
       "      <th>std</th>\n",
       "      <td>NaN</td>\n",
       "      <td>NaN</td>\n",
       "      <td>NaN</td>\n",
       "      <td>NaN</td>\n",
       "      <td>NaN</td>\n",
       "      <td>NaN</td>\n",
       "      <td>5.110916</td>\n",
       "      <td>1.458832</td>\n",
       "      <td>3.783942e+05</td>\n",
       "      <td>NaN</td>\n",
       "      <td>72748.182183</td>\n",
       "    </tr>\n",
       "    <tr>\n",
       "      <th>min</th>\n",
       "      <td>NaN</td>\n",
       "      <td>NaN</td>\n",
       "      <td>NaN</td>\n",
       "      <td>NaN</td>\n",
       "      <td>NaN</td>\n",
       "      <td>NaN</td>\n",
       "      <td>1963.000000</td>\n",
       "      <td>1.000000</td>\n",
       "      <td>1.000000e+02</td>\n",
       "      <td>NaN</td>\n",
       "      <td>1.000000</td>\n",
       "    </tr>\n",
       "    <tr>\n",
       "      <th>25%</th>\n",
       "      <td>NaN</td>\n",
       "      <td>NaN</td>\n",
       "      <td>NaN</td>\n",
       "      <td>NaN</td>\n",
       "      <td>NaN</td>\n",
       "      <td>NaN</td>\n",
       "      <td>2013.000000</td>\n",
       "      <td>2.000000</td>\n",
       "      <td>4.800000e+04</td>\n",
       "      <td>NaN</td>\n",
       "      <td>35000.000000</td>\n",
       "    </tr>\n",
       "    <tr>\n",
       "      <th>50%</th>\n",
       "      <td>NaN</td>\n",
       "      <td>NaN</td>\n",
       "      <td>NaN</td>\n",
       "      <td>NaN</td>\n",
       "      <td>NaN</td>\n",
       "      <td>NaN</td>\n",
       "      <td>2016.000000</td>\n",
       "      <td>2.700000</td>\n",
       "      <td>1.030000e+05</td>\n",
       "      <td>NaN</td>\n",
       "      <td>58000.000000</td>\n",
       "    </tr>\n",
       "    <tr>\n",
       "      <th>75%</th>\n",
       "      <td>NaN</td>\n",
       "      <td>NaN</td>\n",
       "      <td>NaN</td>\n",
       "      <td>NaN</td>\n",
       "      <td>NaN</td>\n",
       "      <td>NaN</td>\n",
       "      <td>2018.000000</td>\n",
       "      <td>4.000000</td>\n",
       "      <td>1.830000e+05</td>\n",
       "      <td>NaN</td>\n",
       "      <td>94250.000000</td>\n",
       "    </tr>\n",
       "    <tr>\n",
       "      <th>max</th>\n",
       "      <td>NaN</td>\n",
       "      <td>NaN</td>\n",
       "      <td>NaN</td>\n",
       "      <td>NaN</td>\n",
       "      <td>NaN</td>\n",
       "      <td>NaN</td>\n",
       "      <td>2021.000000</td>\n",
       "      <td>9.000000</td>\n",
       "      <td>2.000000e+07</td>\n",
       "      <td>NaN</td>\n",
       "      <td>850000.000000</td>\n",
       "    </tr>\n",
       "  </tbody>\n",
       "</table>\n",
       "</div>"
      ],
      "text/plain": [
       "         Type  Region    Make  Gear_Type Origin Options         Year  \\\n",
       "count    3824    3824    3824       3824   3824    3824  3824.000000   \n",
       "unique    320      27      56          2      4       3          NaN   \n",
       "top     Camry  Riyadh  Toyota  Automatic  Saudi    Full          NaN   \n",
       "freq      149    1615     889       3420   2893    1473          NaN   \n",
       "mean      NaN     NaN     NaN        NaN    NaN     NaN  2014.851203   \n",
       "std       NaN     NaN     NaN        NaN    NaN     NaN     5.110916   \n",
       "min       NaN     NaN     NaN        NaN    NaN     NaN  1963.000000   \n",
       "25%       NaN     NaN     NaN        NaN    NaN     NaN  2013.000000   \n",
       "50%       NaN     NaN     NaN        NaN    NaN     NaN  2016.000000   \n",
       "75%       NaN     NaN     NaN        NaN    NaN     NaN  2018.000000   \n",
       "max       NaN     NaN     NaN        NaN    NaN     NaN  2021.000000   \n",
       "\n",
       "        Engine_Size       Mileage Negotiable          Price  \n",
       "count   3824.000000  3.824000e+03       3824    3824.000000  \n",
       "unique          NaN           NaN          1            NaN  \n",
       "top             NaN           NaN      False            NaN  \n",
       "freq            NaN           NaN       3824            NaN  \n",
       "mean       3.181119  1.426211e+05        NaN   78019.245031  \n",
       "std        1.458832  3.783942e+05        NaN   72748.182183  \n",
       "min        1.000000  1.000000e+02        NaN       1.000000  \n",
       "25%        2.000000  4.800000e+04        NaN   35000.000000  \n",
       "50%        2.700000  1.030000e+05        NaN   58000.000000  \n",
       "75%        4.000000  1.830000e+05        NaN   94250.000000  \n",
       "max        9.000000  2.000000e+07        NaN  850000.000000  "
      ]
     },
     "execution_count": 13,
     "metadata": {},
     "output_type": "execute_result"
    }
   ],
   "source": [
    "df_filtered.describe(include='all')"
   ]
  },
  {
   "cell_type": "markdown",
   "id": "1be47e58",
   "metadata": {},
   "source": [
    "After the price filtering, 27 `Type` and 2 `Make` are also indirectly filtered out, meaning those Types and Makes are all negotiable in this dataset and are likely to only have few rows in the original dataset."
   ]
  },
  {
   "cell_type": "code",
   "execution_count": 40,
   "id": "f19fa93e",
   "metadata": {},
   "outputs": [
    {
     "name": "stdout",
     "output_type": "stream",
     "text": [
      "Example of filtered-out Type: Crown\n"
     ]
    },
    {
     "data": {
      "text/html": [
       "<div>\n",
       "<style scoped>\n",
       "    .dataframe tbody tr th:only-of-type {\n",
       "        vertical-align: middle;\n",
       "    }\n",
       "\n",
       "    .dataframe tbody tr th {\n",
       "        vertical-align: top;\n",
       "    }\n",
       "\n",
       "    .dataframe thead th {\n",
       "        text-align: right;\n",
       "    }\n",
       "</style>\n",
       "<table border=\"1\" class=\"dataframe\">\n",
       "  <thead>\n",
       "    <tr style=\"text-align: right;\">\n",
       "      <th></th>\n",
       "      <th>Type</th>\n",
       "      <th>Region</th>\n",
       "      <th>Make</th>\n",
       "      <th>Gear_Type</th>\n",
       "      <th>Origin</th>\n",
       "      <th>Options</th>\n",
       "      <th>Year</th>\n",
       "      <th>Engine_Size</th>\n",
       "      <th>Mileage</th>\n",
       "      <th>Negotiable</th>\n",
       "      <th>Price</th>\n",
       "    </tr>\n",
       "  </thead>\n",
       "  <tbody>\n",
       "    <tr>\n",
       "      <th>3863</th>\n",
       "      <td>Crown</td>\n",
       "      <td>Dammam</td>\n",
       "      <td>Toyota</td>\n",
       "      <td>Manual</td>\n",
       "      <td>Saudi</td>\n",
       "      <td>Standard</td>\n",
       "      <td>1990</td>\n",
       "      <td>2.8</td>\n",
       "      <td>187000</td>\n",
       "      <td>True</td>\n",
       "      <td>0</td>\n",
       "    </tr>\n",
       "  </tbody>\n",
       "</table>\n",
       "</div>"
      ],
      "text/plain": [
       "       Type  Region    Make Gear_Type Origin   Options  Year  Engine_Size  \\\n",
       "3863  Crown  Dammam  Toyota    Manual  Saudi  Standard  1990          2.8   \n",
       "\n",
       "      Mileage  Negotiable  Price  \n",
       "3863   187000        True      0  "
      ]
     },
     "metadata": {},
     "output_type": "display_data"
    },
    {
     "name": "stdout",
     "output_type": "stream",
     "text": [
      "\n",
      "Example of filtered-out Make: SsangYong\n"
     ]
    },
    {
     "data": {
      "text/html": [
       "<div>\n",
       "<style scoped>\n",
       "    .dataframe tbody tr th:only-of-type {\n",
       "        vertical-align: middle;\n",
       "    }\n",
       "\n",
       "    .dataframe tbody tr th {\n",
       "        vertical-align: top;\n",
       "    }\n",
       "\n",
       "    .dataframe thead th {\n",
       "        text-align: right;\n",
       "    }\n",
       "</style>\n",
       "<table border=\"1\" class=\"dataframe\">\n",
       "  <thead>\n",
       "    <tr style=\"text-align: right;\">\n",
       "      <th></th>\n",
       "      <th>Type</th>\n",
       "      <th>Region</th>\n",
       "      <th>Make</th>\n",
       "      <th>Gear_Type</th>\n",
       "      <th>Origin</th>\n",
       "      <th>Options</th>\n",
       "      <th>Year</th>\n",
       "      <th>Engine_Size</th>\n",
       "      <th>Mileage</th>\n",
       "      <th>Negotiable</th>\n",
       "      <th>Price</th>\n",
       "    </tr>\n",
       "  </thead>\n",
       "  <tbody>\n",
       "    <tr>\n",
       "      <th>3828</th>\n",
       "      <td>Koranado</td>\n",
       "      <td>Riyadh</td>\n",
       "      <td>SsangYong</td>\n",
       "      <td>Automatic</td>\n",
       "      <td>Gulf Arabic</td>\n",
       "      <td>Semi Full</td>\n",
       "      <td>2013</td>\n",
       "      <td>2.0</td>\n",
       "      <td>157</td>\n",
       "      <td>True</td>\n",
       "      <td>0</td>\n",
       "    </tr>\n",
       "  </tbody>\n",
       "</table>\n",
       "</div>"
      ],
      "text/plain": [
       "          Type  Region       Make  Gear_Type       Origin    Options  Year  \\\n",
       "3828  Koranado  Riyadh  SsangYong  Automatic  Gulf Arabic  Semi Full  2013   \n",
       "\n",
       "      Engine_Size  Mileage  Negotiable  Price  \n",
       "3828          2.0      157        True      0  "
      ]
     },
     "metadata": {},
     "output_type": "display_data"
    }
   ],
   "source": [
    "# Find Types and Makes present in df but missing in df_filtered\n",
    "types_removed = set(df['Type'].unique()) - set(df_filtered['Type'].unique())\n",
    "makes_removed = set(df['Make'].unique()) - set(df_filtered['Make'].unique())\n",
    "\n",
    "# Pick one Type and one Make that were filtered out\n",
    "type_example = next(iter(types_removed))\n",
    "make_example = next(iter(makes_removed))\n",
    "\n",
    "# Show all rows from df for the selected Type and Make\n",
    "print(f\"Example of filtered-out Type: {type_example}\")\n",
    "display(df[df['Type'] == type_example])\n",
    "\n",
    "print(f\"\\nExample of filtered-out Make: {make_example}\")\n",
    "display(df[df['Make'] == make_example])"
   ]
  },
  {
   "cell_type": "markdown",
   "id": "9d7936b6",
   "metadata": {},
   "source": [
    "For example, both Crown `Type` and SsangYong `Make` only have 1 listing in the dataset, and both listings are negotiable."
   ]
  },
  {
   "cell_type": "markdown",
   "id": "613255d3",
   "metadata": {},
   "source": [
    "## 📊 Initial Data Exploration Summary\n",
    "\n",
    "### 🧾 Dataset Overview\n",
    "\n",
    "* **Total rows**: 3,824\n",
    "* **Columns**: 11 (6 categorical, 1 boolean, 4 numerical)\n",
    "* **No missing values & removed 4 duplicates**\n",
    "\n",
    "---\n",
    "\n",
    "### 🔍 Categorical Features\n",
    "\n",
    "* **High cardinality**\n",
    "\n",
    "  * `Type`: 320 unique models\n",
    "  * `Make`: 56 brands\n",
    "* **Moderate cardinality**\n",
    "\n",
    "  * `Region`: 27 areas\n",
    "* **Dominant categories**\n",
    "\n",
    "  * **Make**: Toyota (\\~23%)\n",
    "  * **Type**: Camry (\\~4%)\n",
    "  * **Region**: Riyadh (\\~42%)\n",
    "  * **Gear\\_Type**: Automatic (\\~89%)\n",
    "  * **Origin**: Saudi (\\~76%)\n",
    "  * **Options**: Full (\\~39%)\n",
    "\n",
    "> ⚠️ Heavy skew: a handful of categories cover most listings; long tail of rare values remains.\n",
    "\n",
    "---\n",
    "\n",
    "### 🔢 Numerical Features\n",
    "\n",
    "| Feature              | Min  | 25 %   | 50 %    | Mean    | 75 %    | Max        |\n",
    "| -------------------- | ---- | ------ | ------- | ------- | ------- | ---------- |\n",
    "| **Year**             | 1963 | 2013   | 2016    | 2015    | 2018    | 2021       |\n",
    "| **Engine\\_Size (L)** | 1.0  | 2.0    | 2.7     | 3.18    | 4.0     | 9.0        |\n",
    "| **Mileage (km)**     | 100  | 48,000 | 103,000 | 142,600 | 183,000 | 20,000,000 |\n",
    "| **Price (SAR)**      | 1    | 35,000 | 58,000  | 78,019  | 94,250  | 850,000    |\n",
    "\n",
    "> ⚠️ Mileage and Price have extreme outliers\n",
    "\n",
    "---\n",
    "\n",
    "### ✅ Key Takeaways\n",
    "\n",
    "1. **Filtered out** 1,795 negotiable listings and 1 invalid 0-price listing -> using 3,824 fixed-price entries.\n",
    "2. **High cardinality** in `Type` & `Make`, with strong region skew -> encoding/aggregation needed.\n",
    "3. **Long tails & outliers** (Mileage, Price) require attention before modeling.\n",
    "4. Clean and ready for detailed EDA & preprocessing."
   ]
  },
  {
   "cell_type": "markdown",
   "id": "e60a50c4",
   "metadata": {},
   "source": [
    "# Detailed Features Data Exploration"
   ]
  },
  {
   "cell_type": "markdown",
   "id": "db32cb05",
   "metadata": {},
   "source": [
    "In this section, we'll explore each feature in more detail to understand more about the data that we have"
   ]
  },
  {
   "cell_type": "code",
   "execution_count": 14,
   "id": "b9fa50e1",
   "metadata": {},
   "outputs": [
    {
     "data": {
      "text/plain": [
       "Index(['Type', 'Region', 'Make', 'Gear_Type', 'Origin', 'Options', 'Year',\n",
       "       'Engine_Size', 'Mileage', 'Negotiable', 'Price'],\n",
       "      dtype='object')"
      ]
     },
     "execution_count": 14,
     "metadata": {},
     "output_type": "execute_result"
    }
   ],
   "source": [
    "df_filtered.columns"
   ]
  },
  {
   "cell_type": "markdown",
   "id": "ef60a8ec",
   "metadata": {},
   "source": [
    "## Type"
   ]
  },
  {
   "cell_type": "code",
   "execution_count": 15,
   "id": "d7eda742",
   "metadata": {},
   "outputs": [
    {
     "name": "stdout",
     "output_type": "stream",
     "text": [
      "Unique Type count: 320\n",
      "\n",
      "Possible near-duplicate or inconsistent Type names:\n",
      "Series([], dtype: object)\n"
     ]
    }
   ],
   "source": [
    "# 1. Quick summary statistics\n",
    "print(\"Unique Type count:\", df_filtered['Type'].nunique())\n",
    "\n",
    "# 2. Find possible typos/near-duplicates (trailing spaces, different case)\n",
    "types_raw = pd.Series(df_filtered['Type'].unique())\n",
    "suspect_types = types_raw[types_raw.str.strip().str.lower().duplicated(keep=False)]\n",
    "print(\"\\nPossible near-duplicate or inconsistent Type names:\")\n",
    "print(suspect_types)"
   ]
  },
  {
   "cell_type": "code",
   "execution_count": 16,
   "id": "1d4f39af",
   "metadata": {},
   "outputs": [
    {
     "data": {
      "text/plain": [
       "Type\n",
       "Camry           149\n",
       "Land Cruiser    148\n",
       "Accent          147\n",
       "Hilux           118\n",
       "Sonata          115\n",
       "               ... \n",
       "Suvana            1\n",
       "EC8               1\n",
       "HS                1\n",
       "A4                1\n",
       "S8                1\n",
       "Name: count, Length: 320, dtype: int64"
      ]
     },
     "execution_count": 16,
     "metadata": {},
     "output_type": "execute_result"
    }
   ],
   "source": [
    "df_filtered['Type'].value_counts()"
   ]
  },
  {
   "cell_type": "code",
   "execution_count": 17,
   "id": "42926f43",
   "metadata": {},
   "outputs": [
    {
     "name": "stdout",
     "output_type": "stream",
     "text": [
      "\n",
      "Top 20 most common Types:\n",
      "Type\n",
      "Camry           149\n",
      "Land Cruiser    148\n",
      "Accent          147\n",
      "Hilux           118\n",
      "Sonata          115\n",
      "Elantra         105\n",
      "Taurus          102\n",
      "Tahoe           100\n",
      "Yukon            93\n",
      "Corolla          82\n",
      "Expedition       76\n",
      "Furniture        62\n",
      "Sunny            60\n",
      "Range Rover      60\n",
      "S                59\n",
      "Yaris            57\n",
      "Accord           55\n",
      "Prado            55\n",
      "Pajero           55\n",
      "ES               51\n",
      "Name: count, dtype: int64\n",
      "\n",
      "Top 20 Types represent 45.74% of all cars\n",
      "Most common: Camry (149 cars)\n",
      "20th most common: ES (51 cars)\n"
     ]
    }
   ],
   "source": [
    "print(\"\\nTop 20 most common Types:\")\n",
    "print(df_filtered['Type'].value_counts().head(20))\n",
    "\n",
    "# Calculate the percentage of data represented by top 20 car types\n",
    "top_types = df_filtered['Type'].value_counts().head(20)\n",
    "top_20_percentage = top_types.sum() / len(df_filtered) * 100\n",
    "\n",
    "# Print the percentage\n",
    "print(f\"\\nTop 20 Types represent {top_20_percentage:.2f}% of all cars\")\n",
    "\n",
    "# Find the minimum and maximum counts in the top 20\n",
    "max_value = top_types.max()\n",
    "max_index = top_types.idxmax()\n",
    "min_value = top_types.tail(1).values[0]\n",
    "min_index = 19  # Index of the 20th item\n",
    "\n",
    "print(f\"Most common: {max_index} ({max_value} cars)\")\n",
    "print(f\"20th most common: {top_types.index[-1]} ({min_value} cars)\")"
   ]
  },
  {
   "cell_type": "code",
   "execution_count": 18,
   "id": "7e98542a",
   "metadata": {},
   "outputs": [
    {
     "data": {
      "image/png": "[encoded data removed]",
      "text/plain": [
       "<Figure size 1200x600 with 1 Axes>"
      ]
     },
     "metadata": {},
     "output_type": "display_data"
    }
   ],
   "source": [
    "# 3. Visualization: Bar chart of top 20 Types\n",
    "plt.figure(figsize=(12, 6))\n",
    "sns.barplot(x=top_types.index, y=top_types.values)\n",
    "plt.title('Top 20 Most Common Car Types')\n",
    "plt.ylabel('Count')\n",
    "plt.xlabel('Car Type')\n",
    "plt.xticks(rotation=90)\n",
    "plt.tight_layout()\n",
    "plt.show()"
   ]
  },
  {
   "cell_type": "code",
   "execution_count": 19,
   "id": "7e7d3160",
   "metadata": {},
   "outputs": [
    {
     "name": "stdout",
     "output_type": "stream",
     "text": [
      "Top 72 types account for 80% of the data.\n",
      "The 80th percentile car type is: Other\n",
      "These top 72 models represent 22.50% of all unique car types/models, and they represent 80.13% of all cars in the dataset.\n"
     ]
    },
    {
     "data": {
      "image/png": "[encoded data removed]",
      "text/plain": [
       "<Figure size 1000x400 with 1 Axes>"
      ]
     },
     "metadata": {},
     "output_type": "display_data"
    }
   ],
   "source": [
    "# Frequency table\n",
    "type_counts = df_filtered['Type'].value_counts()\n",
    "\n",
    "# 4. Cumulative sum\n",
    "cumsum = type_counts.cumsum() / type_counts.sum()\n",
    "\n",
    "# Find N where cumulative sum >= 80%\n",
    "pareto_80 = (cumsum >= 0.8).idxmax()  # Gives the actual Type (model) name\n",
    "N_80 = (cumsum >= 0.8).argmax() + 1   # +1 because index is zero-based\n",
    "\n",
    "# Calculate the percentage that top N_80 models represent\n",
    "top_n80_percentage = cumsum.values[N_80-1] * 100\n",
    "percentage_of_unique_types = (N_80 / len(type_counts)) * 100\n",
    "\n",
    "print(f\"Top {N_80} types account for 80% of the data.\")\n",
    "print(f\"The 80th percentile car type is: {pareto_80}\")\n",
    "print(f\"These top {N_80} models represent {percentage_of_unique_types:.2f}% of all unique car types/models, and they represent {top_n80_percentage:.2f}% of all cars in the dataset.\")\n",
    "\n",
    "# Plot with annotation\n",
    "plt.figure(figsize=(10, 4))\n",
    "plt.plot(cumsum.values, label='Cumulative Coverage')\n",
    "plt.axhline(0.8, color='r', linestyle='--', label='80% Coverage')\n",
    "plt.axvline(N_80, color='g', linestyle='--', label=f'N = {N_80}')\n",
    "plt.scatter(N_80, cumsum.values[N_80-1], color='g', zorder=5)\n",
    "plt.text(N_80, cumsum.values[N_80-1]+0.05, f'N={N_80}', color='g', ha='center')\n",
    "plt.title('Cumulative Coverage of Type Frequency')\n",
    "plt.xlabel('Top N Types (Models)')\n",
    "plt.ylabel('Cumulative % of Data')\n",
    "plt.legend()\n",
    "plt.tight_layout()\n",
    "plt.show()"
   ]
  },
  {
   "cell_type": "code",
   "execution_count": 20,
   "id": "f5f0e87e",
   "metadata": {},
   "outputs": [
    {
     "name": "stdout",
     "output_type": "stream",
     "text": [
      "\n",
      "Number of rare Types (<10 rows): 238 out of 320 total Types (74.38%)\n",
      "Example rare Types: Type\n",
      "CX5        9\n",
      "Acadia     9\n",
      "Sorento    9\n",
      "D-MAX      8\n",
      "Duster     8\n",
      "Name: count, dtype: int64\n"
     ]
    }
   ],
   "source": [
    "# 5. Find \"rare\" Types (less than 10 rows)\n",
    "rare_types = type_counts[type_counts < 10]\n",
    "rare_percentage = (len(rare_types) / len(type_counts)) * 100\n",
    "print(f\"\\nNumber of rare Types (<10 rows): {len(rare_types)} out of {len(type_counts)} total Types ({rare_percentage:.2f}%)\")\n",
    "print(\"Example rare Types:\", rare_types.head())"
   ]
  },
  {
   "cell_type": "markdown",
   "id": "e9a4f510",
   "metadata": {},
   "source": [
    "74% of car types in the dataset have less than 10 rows, which might be a limitation for the predictive model for these rare cars in the real-world dataset."
   ]
  },
  {
   "cell_type": "code",
   "execution_count": 44,
   "id": "eb5be6dc",
   "metadata": {},
   "outputs": [
    {
     "data": {
      "text/html": [
       "<div>\n",
       "<style scoped>\n",
       "    .dataframe tbody tr th:only-of-type {\n",
       "        vertical-align: middle;\n",
       "    }\n",
       "\n",
       "    .dataframe tbody tr th {\n",
       "        vertical-align: top;\n",
       "    }\n",
       "\n",
       "    .dataframe thead th {\n",
       "        text-align: right;\n",
       "    }\n",
       "</style>\n",
       "<table border=\"1\" class=\"dataframe\">\n",
       "  <thead>\n",
       "    <tr style=\"text-align: right;\">\n",
       "      <th></th>\n",
       "      <th>Type</th>\n",
       "      <th>Region</th>\n",
       "      <th>Make</th>\n",
       "      <th>Gear_Type</th>\n",
       "      <th>Origin</th>\n",
       "      <th>Options</th>\n",
       "      <th>Year</th>\n",
       "      <th>Engine_Size</th>\n",
       "      <th>Mileage</th>\n",
       "      <th>Negotiable</th>\n",
       "      <th>Price</th>\n",
       "    </tr>\n",
       "  </thead>\n",
       "  <tbody>\n",
       "    <tr>\n",
       "      <th>663</th>\n",
       "      <td>Other</td>\n",
       "      <td>Qassim</td>\n",
       "      <td>Other</td>\n",
       "      <td>Manual</td>\n",
       "      <td>Other</td>\n",
       "      <td>Standard</td>\n",
       "      <td>1980</td>\n",
       "      <td>2.4</td>\n",
       "      <td>2500</td>\n",
       "      <td>False</td>\n",
       "      <td>220000</td>\n",
       "    </tr>\n",
       "    <tr>\n",
       "      <th>881</th>\n",
       "      <td>Other</td>\n",
       "      <td>Al-Baha</td>\n",
       "      <td>Other</td>\n",
       "      <td>Manual</td>\n",
       "      <td>Other</td>\n",
       "      <td>Standard</td>\n",
       "      <td>2020</td>\n",
       "      <td>1.1</td>\n",
       "      <td>2848</td>\n",
       "      <td>False</td>\n",
       "      <td>2000</td>\n",
       "    </tr>\n",
       "    <tr>\n",
       "      <th>1186</th>\n",
       "      <td>Other</td>\n",
       "      <td>Dammam</td>\n",
       "      <td>Hyundai</td>\n",
       "      <td>Automatic</td>\n",
       "      <td>Other</td>\n",
       "      <td>Full</td>\n",
       "      <td>2011</td>\n",
       "      <td>4.6</td>\n",
       "      <td>270</td>\n",
       "      <td>False</td>\n",
       "      <td>30000</td>\n",
       "    </tr>\n",
       "    <tr>\n",
       "      <th>1199</th>\n",
       "      <td>Other</td>\n",
       "      <td>Qassim</td>\n",
       "      <td>Other</td>\n",
       "      <td>Manual</td>\n",
       "      <td>Other</td>\n",
       "      <td>Full</td>\n",
       "      <td>2019</td>\n",
       "      <td>8.0</td>\n",
       "      <td>24643</td>\n",
       "      <td>False</td>\n",
       "      <td>330000</td>\n",
       "    </tr>\n",
       "    <tr>\n",
       "      <th>1253</th>\n",
       "      <td>Other</td>\n",
       "      <td>Al-Medina</td>\n",
       "      <td>Other</td>\n",
       "      <td>Manual</td>\n",
       "      <td>Other</td>\n",
       "      <td>Standard</td>\n",
       "      <td>2009</td>\n",
       "      <td>2.4</td>\n",
       "      <td>1300</td>\n",
       "      <td>False</td>\n",
       "      <td>26000</td>\n",
       "    </tr>\n",
       "    <tr>\n",
       "      <th>1629</th>\n",
       "      <td>Other</td>\n",
       "      <td>Jeddah</td>\n",
       "      <td>Other</td>\n",
       "      <td>Manual</td>\n",
       "      <td>Other</td>\n",
       "      <td>Semi Full</td>\n",
       "      <td>2021</td>\n",
       "      <td>1.2</td>\n",
       "      <td>3000</td>\n",
       "      <td>False</td>\n",
       "      <td>5500</td>\n",
       "    </tr>\n",
       "    <tr>\n",
       "      <th>1717</th>\n",
       "      <td>Other</td>\n",
       "      <td>Jeddah</td>\n",
       "      <td>Honda</td>\n",
       "      <td>Manual</td>\n",
       "      <td>Saudi</td>\n",
       "      <td>Standard</td>\n",
       "      <td>2011</td>\n",
       "      <td>1.0</td>\n",
       "      <td>4200</td>\n",
       "      <td>False</td>\n",
       "      <td>6500</td>\n",
       "    </tr>\n",
       "    <tr>\n",
       "      <th>1979</th>\n",
       "      <td>Other</td>\n",
       "      <td>Al-Medina</td>\n",
       "      <td>Mitsubishi</td>\n",
       "      <td>Manual</td>\n",
       "      <td>Saudi</td>\n",
       "      <td>Standard</td>\n",
       "      <td>2006</td>\n",
       "      <td>2.5</td>\n",
       "      <td>140000</td>\n",
       "      <td>False</td>\n",
       "      <td>45000</td>\n",
       "    </tr>\n",
       "    <tr>\n",
       "      <th>3542</th>\n",
       "      <td>Other</td>\n",
       "      <td>Riyadh</td>\n",
       "      <td>Geely</td>\n",
       "      <td>Automatic</td>\n",
       "      <td>Saudi</td>\n",
       "      <td>Full</td>\n",
       "      <td>2017</td>\n",
       "      <td>1.4</td>\n",
       "      <td>45000</td>\n",
       "      <td>False</td>\n",
       "      <td>36000</td>\n",
       "    </tr>\n",
       "    <tr>\n",
       "      <th>3608</th>\n",
       "      <td>Other</td>\n",
       "      <td>Khobar</td>\n",
       "      <td>Porsche</td>\n",
       "      <td>Automatic</td>\n",
       "      <td>Saudi</td>\n",
       "      <td>Full</td>\n",
       "      <td>2020</td>\n",
       "      <td>5.0</td>\n",
       "      <td>18000</td>\n",
       "      <td>False</td>\n",
       "      <td>375000</td>\n",
       "    </tr>\n",
       "    <tr>\n",
       "      <th>3861</th>\n",
       "      <td>Other</td>\n",
       "      <td>Riyadh</td>\n",
       "      <td>Honda</td>\n",
       "      <td>Manual</td>\n",
       "      <td>Saudi</td>\n",
       "      <td>Semi Full</td>\n",
       "      <td>2005</td>\n",
       "      <td>4.0</td>\n",
       "      <td>100</td>\n",
       "      <td>False</td>\n",
       "      <td>20000</td>\n",
       "    </tr>\n",
       "    <tr>\n",
       "      <th>4479</th>\n",
       "      <td>Other</td>\n",
       "      <td>Riyadh</td>\n",
       "      <td>Ford</td>\n",
       "      <td>Automatic</td>\n",
       "      <td>Gulf Arabic</td>\n",
       "      <td>Semi Full</td>\n",
       "      <td>2013</td>\n",
       "      <td>3.0</td>\n",
       "      <td>318000</td>\n",
       "      <td>False</td>\n",
       "      <td>40000</td>\n",
       "    </tr>\n",
       "    <tr>\n",
       "      <th>5012</th>\n",
       "      <td>Other</td>\n",
       "      <td>Riyadh</td>\n",
       "      <td>Ford</td>\n",
       "      <td>Manual</td>\n",
       "      <td>Saudi</td>\n",
       "      <td>Standard</td>\n",
       "      <td>1963</td>\n",
       "      <td>1.0</td>\n",
       "      <td>300</td>\n",
       "      <td>False</td>\n",
       "      <td>22000</td>\n",
       "    </tr>\n",
       "  </tbody>\n",
       "</table>\n",
       "</div>"
      ],
      "text/plain": [
       "       Type     Region        Make  Gear_Type       Origin    Options  Year  \\\n",
       "663   Other     Qassim       Other     Manual        Other   Standard  1980   \n",
       "881   Other    Al-Baha       Other     Manual        Other   Standard  2020   \n",
       "1186  Other     Dammam     Hyundai  Automatic        Other       Full  2011   \n",
       "1199  Other     Qassim       Other     Manual        Other       Full  2019   \n",
       "1253  Other  Al-Medina       Other     Manual        Other   Standard  2009   \n",
       "1629  Other     Jeddah       Other     Manual        Other  Semi Full  2021   \n",
       "1717  Other     Jeddah       Honda     Manual        Saudi   Standard  2011   \n",
       "1979  Other  Al-Medina  Mitsubishi     Manual        Saudi   Standard  2006   \n",
       "3542  Other     Riyadh       Geely  Automatic        Saudi       Full  2017   \n",
       "3608  Other     Khobar     Porsche  Automatic        Saudi       Full  2020   \n",
       "3861  Other     Riyadh       Honda     Manual        Saudi  Semi Full  2005   \n",
       "4479  Other     Riyadh        Ford  Automatic  Gulf Arabic  Semi Full  2013   \n",
       "5012  Other     Riyadh        Ford     Manual        Saudi   Standard  1963   \n",
       "\n",
       "      Engine_Size  Mileage  Negotiable   Price  \n",
       "663           2.4     2500       False  220000  \n",
       "881           1.1     2848       False    2000  \n",
       "1186          4.6      270       False   30000  \n",
       "1199          8.0    24643       False  330000  \n",
       "1253          2.4     1300       False   26000  \n",
       "1629          1.2     3000       False    5500  \n",
       "1717          1.0     4200       False    6500  \n",
       "1979          2.5   140000       False   45000  \n",
       "3542          1.4    45000       False   36000  \n",
       "3608          5.0    18000       False  375000  \n",
       "3861          4.0      100       False   20000  \n",
       "4479          3.0   318000       False   40000  \n",
       "5012          1.0      300       False   22000  "
      ]
     },
     "execution_count": 44,
     "metadata": {},
     "output_type": "execute_result"
    }
   ],
   "source": [
    "df_filtered[df_filtered['Type'] == 'Other']"
   ]
  },
  {
   "cell_type": "markdown",
   "id": "bc13d1f2",
   "metadata": {},
   "source": [
    "There is also an 'Other' value in Type, containing 13 rows of cars"
   ]
  },
  {
   "cell_type": "markdown",
   "id": "b17fefb8",
   "metadata": {},
   "source": [
    "### 🔍 Feature Analysis: `Type` (Car Model)\n",
    "\n",
    "- **Unique Types**: 320 (after removing negotiable and invalid price listings)\n",
    "- **Most Common Type**: Camry (149 listings, ~3.9%)\n",
    "- **Top 20 Types**: Account for **45.74%** of all listings\n",
    "- **Skewed Distribution**:  \n",
    "  - **Top 72 models (22.5%)** already represent **80%** of the data\n",
    "  - **238 out of 320 types (74%)** have **fewer than 10 rows**\n",
    "\n",
    "> This shows a classic **long-tail distribution** where most models appear very rarely.\n",
    "\n",
    "- **No typos or inconsistent casing/spacing** were detected\n",
    "- There is a pre-existing `\"Other\"` value in the data with 13 rows.\n",
    "\n",
    "### ⚠️ Implications\n",
    "\n",
    "- Model will learn best on common car types (e.g. Camry, Land Cruiser, Accent), but may underperform on rare types.\n",
    "- For traditional models like linear regression or one-hot encoded baselines, might consider grouping rare types into a new label (e.g. `'Rare_Model'`) to reduce noise and feature sparsity.\n",
    "- If using **CatBoost**, I can safely leave raw values (even rare ones), as it handles rare categories natively."
   ]
  },
  {
   "cell_type": "markdown",
   "id": "f104e67d",
   "metadata": {},
   "source": [
    "## Region"
   ]
  },
  {
   "cell_type": "markdown",
   "id": "888d5de2",
   "metadata": {},
   "source": [
    "### **Checklist for `Region` Column**\n",
    "\n",
    "* **Sanity checks**:\n",
    "\n",
    "  * Are there typos, inconsistent naming, or trailing spaces?\n",
    "  * Are all regions real (exist in Saudi Arabia)?\n",
    "  * Any “unknown”, “other”, or blank values?\n",
    "  * Are there regions with very few listings?\n",
    "\n",
    "* **Distribution analysis**:\n",
    "\n",
    "  * Which regions dominate the data?\n",
    "  * How many regions cover most listings (Pareto principle)?\n",
    "  * How many rare regions (<10 cars)?\n",
    "\n",
    "* **Visualization**:\n",
    "\n",
    "  * Bar chart of top regions\n",
    "  * Cumulative coverage plot (Pareto)\n",
    "  * (Optional) Map visualization if you have lat/lon info"
   ]
  },
  {
   "cell_type": "code",
   "execution_count": 22,
   "id": "607ddf62",
   "metadata": {},
   "outputs": [
    {
     "name": "stdout",
     "output_type": "stream",
     "text": [
      "Unique Region count: 27\n",
      "\n",
      "Top 10 most common Regions:\n",
      "Region\n",
      "Riyadh       1615\n",
      "Dammam        748\n",
      "Jeddah        546\n",
      "Al-Medina     124\n",
      "Qassim        112\n",
      "Al-Ahsa       111\n",
      "Makkah         87\n",
      "Aseer          87\n",
      "Taef           53\n",
      "Khobar         51\n",
      "Name: count, dtype: int64\n"
     ]
    }
   ],
   "source": [
    "# 1. Quick summary\n",
    "print(\"Unique Region count:\", df_filtered['Region'].nunique())\n",
    "print(\"\\nTop 10 most common Regions:\")\n",
    "print(df_filtered['Region'].value_counts().head(10))"
   ]
  },
  {
   "cell_type": "code",
   "execution_count": 23,
   "id": "80fbefc8",
   "metadata": {},
   "outputs": [
    {
     "name": "stdout",
     "output_type": "stream",
     "text": [
      "\n",
      "Possible near-duplicate or inconsistent Region names:\n",
      "Series([], dtype: object)\n"
     ]
    }
   ],
   "source": [
    "# 2. Data quality: check for possible typos/inconsistencies\n",
    "regions_raw = pd.Series(df_filtered['Region'].unique())\n",
    "suspect_regions = regions_raw[regions_raw.str.strip().str.lower().duplicated(keep=False)]\n",
    "print(\"\\nPossible near-duplicate or inconsistent Region names:\")\n",
    "print(suspect_regions)"
   ]
  },
  {
   "cell_type": "code",
   "execution_count": 24,
   "id": "bcf9527c",
   "metadata": {},
   "outputs": [
    {
     "data": {
      "image/png": "[encoded data removed]",
      "text/plain": [
       "<Figure size 1200x600 with 1 Axes>"
      ]
     },
     "metadata": {},
     "output_type": "display_data"
    }
   ],
   "source": [
    "# 3. Frequency table\n",
    "region_counts = df_filtered['Region'].value_counts()\n",
    "\n",
    "# 4. Plot: Top 15 Regions\n",
    "plt.figure(figsize=(12, 6))\n",
    "region_counts.head(10).plot(kind='bar')\n",
    "plt.title('Top 10 Most Frequent Regions')\n",
    "plt.ylabel('Count')\n",
    "plt.xlabel('Region')\n",
    "plt.xticks(rotation=60)\n",
    "plt.tight_layout()\n",
    "plt.show()"
   ]
  },
  {
   "cell_type": "code",
   "execution_count": 25,
   "id": "eb902bd5",
   "metadata": {},
   "outputs": [
    {
     "data": {
      "image/png": "[encoded data removed]",
      "text/plain": [
       "<Figure size 1000x400 with 1 Axes>"
      ]
     },
     "metadata": {},
     "output_type": "display_data"
    },
    {
     "name": "stdout",
     "output_type": "stream",
     "text": [
      "Top 5 regions account for 80% of the data.\n",
      "The 80th percentile region is: Qassim\n",
      "These top 5 regions represent 18.52% of all unique regions, and they represent 82.24% of all cars in the dataset.\n"
     ]
    }
   ],
   "source": [
    "# 5. Cumulative coverage (Pareto)\n",
    "region_cumsum = region_counts.cumsum() / region_counts.sum()\n",
    "pareto_80 = (region_cumsum >= 0.8).idxmax()\n",
    "N_80 = (region_cumsum >= 0.8).argmax() + 1\n",
    "\n",
    "plt.figure(figsize=(10, 4))\n",
    "plt.plot(region_cumsum.values)\n",
    "plt.axhline(0.8, color='r', linestyle='--', label='80% Coverage')\n",
    "plt.axvline(N_80, color='g', linestyle='--', label=f'N = {N_80}')\n",
    "plt.scatter(N_80, region_cumsum.values[N_80-1], color='g', zorder=5)\n",
    "plt.text(N_80, region_cumsum.values[N_80-1]+0.05, f'N={N_80}', color='g', ha='center')\n",
    "plt.title('Cumulative Coverage of Region Frequency')\n",
    "plt.xlabel('Top N Regions')\n",
    "plt.ylabel('Cumulative % of Data')\n",
    "plt.legend()\n",
    "plt.tight_layout()\n",
    "plt.show()\n",
    "\n",
    "print(f\"Top {N_80} regions account for 80% of the data.\")\n",
    "print(f\"The 80th percentile region is: {pareto_80}\")\n",
    "percentage_of_unique_regions = (N_80 / len(region_counts)) * 100\n",
    "top_n80_percentage = region_cumsum.values[N_80-1] * 100\n",
    "print(f\"These top {N_80} regions represent {percentage_of_unique_regions:.2f}% of all unique regions, and they represent {top_n80_percentage:.2f}% of all cars in the dataset.\")"
   ]
  },
  {
   "cell_type": "code",
   "execution_count": 26,
   "id": "2cdac644",
   "metadata": {},
   "outputs": [
    {
     "name": "stdout",
     "output_type": "stream",
     "text": [
      "\n",
      "Number of rare Regions (<10 rows): 6 out of 27 total Regions (22.22%)\n",
      "Example rare Regions: Region\n",
      "Arar            7\n",
      "Wadi Dawasir    5\n",
      "Qurayyat        4\n",
      "Sakaka          4\n",
      "Besha           3\n",
      "Name: count, dtype: int64\n"
     ]
    }
   ],
   "source": [
    "# 6. Find rare Regions (<10 listings)\n",
    "rare_regions = region_counts[region_counts < 10]\n",
    "rare_percentage = (len(rare_regions) / len(region_counts)) * 100\n",
    "print(f\"\\nNumber of rare Regions (<10 rows): {len(rare_regions)} out of {len(region_counts)} total Regions ({rare_percentage:.2f}%)\")\n",
    "print(\"Example rare Regions:\", rare_regions.head())"
   ]
  },
  {
   "cell_type": "code",
   "execution_count": 27,
   "id": "16dccc60",
   "metadata": {},
   "outputs": [
    {
     "data": {
      "text/plain": [
       "Region\n",
       "Riyadh            1615\n",
       "Dammam             748\n",
       "Jeddah             546\n",
       "Al-Medina          124\n",
       "Qassim             112\n",
       "Al-Ahsa            111\n",
       "Makkah              87\n",
       "Aseer               87\n",
       "Taef                53\n",
       "Khobar              51\n",
       "Tabouk              51\n",
       "Jazan               34\n",
       "Jubail              34\n",
       "Abha                30\n",
       "Hail                25\n",
       "Najran              19\n",
       "Al-Baha             18\n",
       "Yanbu               15\n",
       "Al-Jouf             15\n",
       "Hafar Al-Batin      15\n",
       "Al-Namas            10\n",
       "Arar                 7\n",
       "Wadi Dawasir         5\n",
       "Qurayyat             4\n",
       "Sakaka               4\n",
       "Besha                3\n",
       "Sabya                1\n",
       "Name: count, dtype: int64"
      ]
     },
     "execution_count": 27,
     "metadata": {},
     "output_type": "execute_result"
    }
   ],
   "source": [
    "df_filtered['Region'].value_counts()"
   ]
  },
  {
   "cell_type": "markdown",
   "id": "279a6592",
   "metadata": {},
   "source": [
    "### 🔍 Feature Analysis: `Region`\n",
    "\n",
    "- **Unique Regions**: 27  \n",
    "- **Top 5 Regions** (80% Pareto point):  \n",
    "  1. Riyadh (1,615 listings, 42.3%)  \n",
    "  2. Dammam (748, 19.6%)  \n",
    "  3. Jeddah (546, 14.3%)  \n",
    "  4. Al-Medina (124, 3.2%)  \n",
    "  5. Qassim   (112, 2.9%)  \n",
    "- **Coverage**: Top 5 regions (18.5% of all regions) account for **82.2%** of listings  \n",
    "- **Rare Regions**: 6 regions (~22% of regions) have **<10 listings**  \n",
    "  - Examples: Arar (7), Wadi Dawasir (5), Qurayyat (4), Sakaka (4), Besha (3), Sabya (1)  \n",
    "- **Data Quality**: No typos or inconsistent naming detected  \n",
    "\n",
    "### ⚠️ Implications\n",
    "\n",
    "- The model will learn best for the major hubs (Riyadh, Dammam, Jeddah).  \n",
    "- Rare regions may need to be grouped into an “Other_Region” bucket or handled with robust encoders to avoid noisy estimates.  \n",
    "- Geographic skew reflects actual market concentration—focus business insights on high-volume areas but be cautious interpreting low-volume regions."
   ]
  },
  {
   "cell_type": "markdown",
   "id": "941a54aa",
   "metadata": {},
   "source": [
    "## Make"
   ]
  },
  {
   "cell_type": "markdown",
   "id": "34c62e13",
   "metadata": {},
   "source": [
    "### 📝 **EDA & Data Quality Checklist for `Make`**\n",
    "\n",
    "* **Sanity checks:**\n",
    "\n",
    "  * Are there typos, inconsistent naming, or extra spaces?\n",
    "  * Are there rare makes (with very few listings)?\n",
    "\n",
    "* **Distribution analysis:**\n",
    "\n",
    "  * Which makes dominate the data?\n",
    "  * How many makes cover 80% of listings (Pareto)?\n",
    "  * How many rare makes (<10 cars)?\n",
    "\n",
    "* **Visualization:**\n",
    "\n",
    "  * Bar chart of top makes\n",
    "  * Cumulative coverage plot (Pareto)"
   ]
  },
  {
   "cell_type": "code",
   "execution_count": 28,
   "id": "8b13a66f",
   "metadata": {},
   "outputs": [
    {
     "name": "stdout",
     "output_type": "stream",
     "text": [
      "Unique Make count: 56\n",
      "\n",
      "Top 10 most common Makes:\n",
      "Make\n",
      "Toyota       889\n",
      "Hyundai      512\n",
      "Ford         346\n",
      "Chevrolet    296\n",
      "Nissan       252\n",
      "Kia          186\n",
      "Mercedes     173\n",
      "GMC          167\n",
      "Lexus        146\n",
      "Mazda         92\n",
      "Name: count, dtype: int64\n"
     ]
    }
   ],
   "source": [
    "# 1. Quick summary\n",
    "print(\"Unique Make count:\", df_filtered['Make'].nunique())\n",
    "print(\"\\nTop 10 most common Makes:\")\n",
    "print(df_filtered['Make'].value_counts().head(10))"
   ]
  },
  {
   "cell_type": "code",
   "execution_count": 29,
   "id": "c365e68a",
   "metadata": {},
   "outputs": [
    {
     "name": "stdout",
     "output_type": "stream",
     "text": [
      "\n",
      "Possible near-duplicate or inconsistent Make names:\n",
      "Series([], dtype: object)\n"
     ]
    }
   ],
   "source": [
    "# 2. Data quality: check for possible typos/inconsistencies\n",
    "makes_raw = pd.Series(df_filtered['Make'].unique())\n",
    "suspect_makes = makes_raw[makes_raw.str.strip().str.lower().duplicated(keep=False)]\n",
    "print(\"\\nPossible near-duplicate or inconsistent Make names:\")\n",
    "print(suspect_makes)"
   ]
  },
  {
   "cell_type": "code",
   "execution_count": 30,
   "id": "5ad084a9",
   "metadata": {},
   "outputs": [
    {
     "data": {
      "image/png": "[encoded data removed]",
      "text/plain": [
       "<Figure size 1200x600 with 1 Axes>"
      ]
     },
     "metadata": {},
     "output_type": "display_data"
    }
   ],
   "source": [
    "# 3. Frequency table\n",
    "make_counts = df_filtered['Make'].value_counts()\n",
    "\n",
    "# 4. Plot: Top 10 Makes\n",
    "plt.figure(figsize=(12, 6))\n",
    "make_counts.head(10).plot(kind='bar')\n",
    "plt.title('Top 10 Most Frequent Makes')\n",
    "plt.ylabel('Count')\n",
    "plt.xlabel('Make')\n",
    "plt.xticks(rotation=60)\n",
    "plt.tight_layout()\n",
    "plt.show()"
   ]
  },
  {
   "cell_type": "code",
   "execution_count": 31,
   "id": "910c4748",
   "metadata": {},
   "outputs": [
    {
     "data": {
      "image/png": "[encoded data removed]",
      "text/plain": [
       "<Figure size 1000x400 with 1 Axes>"
      ]
     },
     "metadata": {},
     "output_type": "display_data"
    },
    {
     "name": "stdout",
     "output_type": "stream",
     "text": [
      "Top 11 makes account for 80% of the data.\n",
      "The 80th percentile make is: Honda\n",
      "These top 11 makes represent 19.64% of all unique makes, and they represent 82.22% of all cars in the dataset.\n"
     ]
    }
   ],
   "source": [
    "# 5. Cumulative coverage (Pareto)\n",
    "make_cumsum = make_counts.cumsum() / make_counts.sum()\n",
    "pareto_80_make = (make_cumsum >= 0.8).idxmax()\n",
    "N_80_make = (make_cumsum >= 0.8).argmax() + 1\n",
    "\n",
    "plt.figure(figsize=(10, 4))\n",
    "plt.plot(make_cumsum.values)\n",
    "plt.axhline(0.8, color='r', linestyle='--', label='80% Coverage')\n",
    "plt.axvline(N_80_make, color='g', linestyle='--', label=f'N = {N_80_make}')\n",
    "plt.scatter(N_80_make, make_cumsum.values[N_80_make-1], color='g', zorder=5)\n",
    "plt.text(N_80_make, make_cumsum.values[N_80_make-1]+0.05, f'N={N_80_make}', color='g', ha='center')\n",
    "plt.title('Cumulative Coverage of Make Frequency')\n",
    "plt.xlabel('Top N Makes')\n",
    "plt.ylabel('Cumulative % of Data')\n",
    "plt.legend()\n",
    "plt.tight_layout()\n",
    "plt.show()\n",
    "\n",
    "print(f\"Top {N_80_make} makes account for 80% of the data.\")\n",
    "print(f\"The 80th percentile make is: {pareto_80_make}\")\n",
    "percentage_of_unique_makes = (N_80_make / len(make_counts)) * 100\n",
    "top_n80_make_percentage = make_cumsum.values[N_80_make-1] * 100\n",
    "print(f\"These top {N_80_make} makes represent {percentage_of_unique_makes:.2f}% of all unique makes, and they represent {top_n80_make_percentage:.2f}% of all cars in the dataset.\")\n"
   ]
  },
  {
   "cell_type": "code",
   "execution_count": 32,
   "id": "0ce7090d",
   "metadata": {},
   "outputs": [
    {
     "name": "stdout",
     "output_type": "stream",
     "text": [
      "\n",
      "Number of rare Makes (<10 rows): 27 out of 56 total Makes (48.21%)\n",
      "Example rare Makes: Make\n",
      "Lincoln    9\n",
      "HAVAL      9\n",
      "Jaguar     8\n",
      "MINI       8\n",
      "Peugeot    7\n",
      "Name: count, dtype: int64\n"
     ]
    }
   ],
   "source": [
    "# 6. Find rare Makes (<10 listings)\n",
    "rare_makes = make_counts[make_counts < 10]\n",
    "rare_percentage_make = (len(rare_makes) / len(make_counts)) * 100\n",
    "print(f\"\\nNumber of rare Makes (<10 rows): {len(rare_makes)} out of {len(make_counts)} total Makes ({rare_percentage_make:.2f}%)\")\n",
    "print(\"Example rare Makes:\", rare_makes.head())"
   ]
  },
  {
   "cell_type": "code",
   "execution_count": 33,
   "id": "8b64d483",
   "metadata": {},
   "outputs": [
    {
     "data": {
      "text/plain": [
       "Make\n",
       "Honda           85\n",
       "BMW             72\n",
       "Mitsubishi      71\n",
       "Dodge           68\n",
       "Land Rover      62\n",
       "Jeep            42\n",
       "Chrysler        36\n",
       "Genesis         29\n",
       "Audi            27\n",
       "Renault         26\n",
       "Cadillac        25\n",
       "Changan         24\n",
       "Geely           19\n",
       "MG              18\n",
       "Volkswagen      17\n",
       "Porsche         15\n",
       "Isuzu           12\n",
       "INFINITI        10\n",
       "Suzuki          10\n",
       "Lincoln          9\n",
       "HAVAL            9\n",
       "Jaguar           8\n",
       "MINI             8\n",
       "Peugeot          7\n",
       "Mercury          7\n",
       "Fiat             6\n",
       "Other            5\n",
       "Daihatsu         4\n",
       "Bentley          4\n",
       "FAW              3\n",
       "Rolls-Royce      3\n",
       "Maserati         3\n",
       "GAC              3\n",
       "Great Wall       2\n",
       "Hummer           2\n",
       "Aston Martin     2\n",
       "Zhengzhou        2\n",
       "Foton            2\n",
       "BYD              1\n",
       "Škoda            1\n",
       "Iveco            1\n",
       "Lifan            1\n",
       "Chery            1\n",
       "Classic          1\n",
       "Victory Auto     1\n",
       "Ferrari          1\n",
       "Name: count, dtype: int64"
      ]
     },
     "execution_count": 33,
     "metadata": {},
     "output_type": "execute_result"
    }
   ],
   "source": [
    "# Exclude the Top 10 most common Makes from the value counts\n",
    "df_filtered['Make'].value_counts().iloc[10:]"
   ]
  },
  {
   "cell_type": "code",
   "execution_count": 45,
   "id": "dcf9a366",
   "metadata": {},
   "outputs": [
    {
     "data": {
      "text/html": [
       "<div>\n",
       "<style scoped>\n",
       "    .dataframe tbody tr th:only-of-type {\n",
       "        vertical-align: middle;\n",
       "    }\n",
       "\n",
       "    .dataframe tbody tr th {\n",
       "        vertical-align: top;\n",
       "    }\n",
       "\n",
       "    .dataframe thead th {\n",
       "        text-align: right;\n",
       "    }\n",
       "</style>\n",
       "<table border=\"1\" class=\"dataframe\">\n",
       "  <thead>\n",
       "    <tr style=\"text-align: right;\">\n",
       "      <th></th>\n",
       "      <th>Type</th>\n",
       "      <th>Region</th>\n",
       "      <th>Make</th>\n",
       "      <th>Gear_Type</th>\n",
       "      <th>Origin</th>\n",
       "      <th>Options</th>\n",
       "      <th>Year</th>\n",
       "      <th>Engine_Size</th>\n",
       "      <th>Mileage</th>\n",
       "      <th>Negotiable</th>\n",
       "      <th>Price</th>\n",
       "    </tr>\n",
       "  </thead>\n",
       "  <tbody>\n",
       "    <tr>\n",
       "      <th>663</th>\n",
       "      <td>Other</td>\n",
       "      <td>Qassim</td>\n",
       "      <td>Other</td>\n",
       "      <td>Manual</td>\n",
       "      <td>Other</td>\n",
       "      <td>Standard</td>\n",
       "      <td>1980</td>\n",
       "      <td>2.4</td>\n",
       "      <td>2500</td>\n",
       "      <td>False</td>\n",
       "      <td>220000</td>\n",
       "    </tr>\n",
       "    <tr>\n",
       "      <th>881</th>\n",
       "      <td>Other</td>\n",
       "      <td>Al-Baha</td>\n",
       "      <td>Other</td>\n",
       "      <td>Manual</td>\n",
       "      <td>Other</td>\n",
       "      <td>Standard</td>\n",
       "      <td>2020</td>\n",
       "      <td>1.1</td>\n",
       "      <td>2848</td>\n",
       "      <td>False</td>\n",
       "      <td>2000</td>\n",
       "    </tr>\n",
       "    <tr>\n",
       "      <th>1199</th>\n",
       "      <td>Other</td>\n",
       "      <td>Qassim</td>\n",
       "      <td>Other</td>\n",
       "      <td>Manual</td>\n",
       "      <td>Other</td>\n",
       "      <td>Full</td>\n",
       "      <td>2019</td>\n",
       "      <td>8.0</td>\n",
       "      <td>24643</td>\n",
       "      <td>False</td>\n",
       "      <td>330000</td>\n",
       "    </tr>\n",
       "    <tr>\n",
       "      <th>1253</th>\n",
       "      <td>Other</td>\n",
       "      <td>Al-Medina</td>\n",
       "      <td>Other</td>\n",
       "      <td>Manual</td>\n",
       "      <td>Other</td>\n",
       "      <td>Standard</td>\n",
       "      <td>2009</td>\n",
       "      <td>2.4</td>\n",
       "      <td>1300</td>\n",
       "      <td>False</td>\n",
       "      <td>26000</td>\n",
       "    </tr>\n",
       "    <tr>\n",
       "      <th>1629</th>\n",
       "      <td>Other</td>\n",
       "      <td>Jeddah</td>\n",
       "      <td>Other</td>\n",
       "      <td>Manual</td>\n",
       "      <td>Other</td>\n",
       "      <td>Semi Full</td>\n",
       "      <td>2021</td>\n",
       "      <td>1.2</td>\n",
       "      <td>3000</td>\n",
       "      <td>False</td>\n",
       "      <td>5500</td>\n",
       "    </tr>\n",
       "  </tbody>\n",
       "</table>\n",
       "</div>"
      ],
      "text/plain": [
       "       Type     Region   Make Gear_Type Origin    Options  Year  Engine_Size  \\\n",
       "663   Other     Qassim  Other    Manual  Other   Standard  1980          2.4   \n",
       "881   Other    Al-Baha  Other    Manual  Other   Standard  2020          1.1   \n",
       "1199  Other     Qassim  Other    Manual  Other       Full  2019          8.0   \n",
       "1253  Other  Al-Medina  Other    Manual  Other   Standard  2009          2.4   \n",
       "1629  Other     Jeddah  Other    Manual  Other  Semi Full  2021          1.2   \n",
       "\n",
       "      Mileage  Negotiable   Price  \n",
       "663      2500       False  220000  \n",
       "881      2848       False    2000  \n",
       "1199    24643       False  330000  \n",
       "1253     1300       False   26000  \n",
       "1629     3000       False    5500  "
      ]
     },
     "execution_count": 45,
     "metadata": {},
     "output_type": "execute_result"
    }
   ],
   "source": [
    "df_filtered[df_filtered['Make'] == 'Other']"
   ]
  },
  {
   "cell_type": "markdown",
   "id": "cd2e96c3",
   "metadata": {},
   "source": [
    "There is also an 'Other' value on `Make`, with 5 listings."
   ]
  },
  {
   "cell_type": "markdown",
   "id": "a4bd6317",
   "metadata": {},
   "source": [
    "### 🔍 Feature Analysis: `Make`\n",
    "\n",
    "- **Unique Makes**: 56  \n",
    "- **Top 5 Makes**:  \n",
    "  1. Toyota (889 listings, 23.3%)  \n",
    "  2. Hyundai (512, 13.4%)  \n",
    "  3. Ford    (346, 9.1%)  \n",
    "  4. Chevrolet (296, 7.8%)  \n",
    "  5. Nissan   (252, 6.6%)  \n",
    "- **Pareto Insight**:  \n",
    "  - Top 11 makes (19.6% of all makes) cover **82.2%** of listings  \n",
    "- **Long Tail**:  \n",
    "  - 27 out of 56 makes (48.2%) have **<10 listings** (e.g. Lincoln, HAVAL, Jaguar)  \n",
    "- **Raw “Other” Label**:  \n",
    "  - There are 5 listings with `Make = \"Other\"` in the source data.\n",
    "\n",
    "### ⚠️ Implications\n",
    "\n",
    "- The model will be strongest for common brands like Toyota and Hyundai, but may struggle or overfit on under-represented makes.  \n",
    "- For one-hot or linear baselines, might need to group all makes with fewer than 10 observations into a `Rare_Make` category to improve stability and reduce dimensionality.\n",
    "- With CatBoost (or similar), I can leave raw strings as these libraries handle rare categories natively.  "
   ]
  },
  {
   "cell_type": "markdown",
   "id": "4a389039",
   "metadata": {},
   "source": [
    "## Gear Type"
   ]
  },
  {
   "cell_type": "markdown",
   "id": "206997a4",
   "metadata": {},
   "source": [
    "### EDA Steps for `Gear_Type`\n",
    "\n",
    "1. **Check for unique values and distribution**\n",
    "2. **Check for typos or inconsistent labels**\n",
    "3. **Visualize distribution**\n",
    "\n",
    "### What to Look For\n",
    "\n",
    "* Are there only “Automatic” and “Manual”, or are there unexpected/rare/invalid labels?\n",
    "* Does the distribution align with expectations for the Saudi used car market (Automatic is expected to dominate)?\n",
    "* Any “Other”, “Unknown”, or strange values?"
   ]
  },
  {
   "cell_type": "code",
   "execution_count": 51,
   "id": "cafb40c9",
   "metadata": {},
   "outputs": [
    {
     "name": "stdout",
     "output_type": "stream",
     "text": [
      "Unique Gear_Type values: ['Automatic' 'Manual']\n",
      "Gear_Type\n",
      "Automatic    3420\n",
      "Manual        404\n",
      "Name: count, dtype: int64\n",
      "\n",
      "Percentage breakdown:\n",
      "Automatic: 89.44%\n",
      "Manual: 10.56%\n"
     ]
    }
   ],
   "source": [
    "# 1. Unique values and count\n",
    "print(\"Unique Gear_Type values:\", df_filtered['Gear_Type'].unique())\n",
    "gear_counts = df_filtered['Gear_Type'].value_counts()\n",
    "print(gear_counts)\n",
    "\n",
    "# Percentage comparison\n",
    "total = gear_counts.sum()\n",
    "percentages = (gear_counts / total * 100).round(2)\n",
    "print(\"\\nPercentage breakdown:\")\n",
    "for gear_type, pct in percentages.items():\n",
    "    print(f\"{gear_type}: {pct}%\")"
   ]
  },
  {
   "cell_type": "markdown",
   "id": "c253e100",
   "metadata": {},
   "source": [
    "For `Gear Type`, there are only 2 values: Automatic & Manual.\n",
    "\n",
    "Most cars being listed on the website here is Automatic cars, with them representing almost 90% of listings."
   ]
  },
  {
   "cell_type": "code",
   "execution_count": 48,
   "id": "5469b26e",
   "metadata": {},
   "outputs": [
    {
     "name": "stdout",
     "output_type": "stream",
     "text": [
      "Possible near-duplicate or inconsistent Gear_Type labels:\n",
      "Series([], dtype: object)\n"
     ]
    }
   ],
   "source": [
    "# 2. Check for possible typos/inconsistencies\n",
    "gear_raw = pd.Series(df_filtered['Gear_Type'].unique())\n",
    "suspect_gear = gear_raw[gear_raw.str.strip().str.lower().duplicated(keep=False)]\n",
    "print(\"Possible near-duplicate or inconsistent Gear_Type labels:\")\n",
    "print(suspect_gear)"
   ]
  },
  {
   "cell_type": "code",
   "execution_count": 50,
   "id": "ca25098c",
   "metadata": {},
   "outputs": [
    {
     "data": {
      "image/png": "[encoded data removed]",
      "text/plain": [
       "<Figure size 600x400 with 1 Axes>"
      ]
     },
     "metadata": {},
     "output_type": "display_data"
    }
   ],
   "source": [
    "# 3. Visualize\n",
    "import matplotlib.pyplot as plt\n",
    "plt.figure(figsize=(6, 4))\n",
    "df_filtered['Gear_Type'].value_counts().plot(kind='bar')\n",
    "plt.title('Distribution of Gear Type')\n",
    "plt.ylabel('Count')\n",
    "plt.xlabel('Gear Type')\n",
    "plt.xticks(rotation=0)\n",
    "plt.show()"
   ]
  },
  {
   "cell_type": "markdown",
   "id": "2972353c",
   "metadata": {},
   "source": [
    "### 🔍 Feature Analysis: `Gear_Type`\n",
    "\n",
    "- **Unique Values**: 2 (`Automatic`, `Manual`)  \n",
    "- **Counts**:  \n",
    "  - Automatic: 3,420 listings (89.44%)  \n",
    "  - Manual:    404 listings (10.56%)  \n",
    "- **Data Quality**:  \n",
    "  - No typos or inconsistent labels detected  \n",
    "\n",
    "### ⚠️ Implications\n",
    "\n",
    "1. **Market Preference**  \n",
    "   - The Saudi used-car market is overwhelmingly automatic, reflecting buyer demand and driving conditions.  \n",
    "2. **Model Training**  \n",
    "   - With only ~10% of cars manual, the model may have less exposure and produce noisier predictions for this subgroup.  \n",
    "3. **Encoding Strategy**  \n",
    "   - A simple binary encoding (0/1) is sufficient; no need for one-hot expansion beyond these two categories.  \n",
    "4. **No Further Cleaning Needed**  \n",
    "   - Since only valid categories exist and no rare values to group, we can proceed directly to modeling with this feature.  "
   ]
  },
  {
   "cell_type": "markdown",
   "id": "d7c89f67",
   "metadata": {},
   "source": [
    "## Origin"
   ]
  },
  {
   "cell_type": "markdown",
   "id": "fbe6e5e2",
   "metadata": {},
   "source": [
    "### EDA Steps for `Origin`\n",
    "\n",
    "1. **Check unique values and distribution**\n",
    "2. **Check for typos or inconsistent labels**\n",
    "3. **Visualize the frequency distribution**\n",
    "\n",
    "### What to Look For\n",
    "\n",
    "* Are all `Origin` values valid and expected (e.g., Saudi, Gulf, American, Other)?\n",
    "* Any typos, weird spellings, or casing/whitespace issues?\n",
    "* Are there any “Other”, “Unknown”, or empty values?\n",
    "* Is one category overwhelmingly dominant?"
   ]
  },
  {
   "cell_type": "code",
   "execution_count": 53,
   "id": "8ed68ae2",
   "metadata": {},
   "outputs": [
    {
     "name": "stdout",
     "output_type": "stream",
     "text": [
      "Unique Origin values: ['Saudi' 'Gulf Arabic' 'Other' 'Unknown']\n",
      "Origin\n",
      "Saudi          2893\n",
      "Gulf Arabic     495\n",
      "Other           420\n",
      "Unknown          16\n",
      "Name: count, dtype: int64\n"
     ]
    }
   ],
   "source": [
    "# 1. Unique values and counts\n",
    "print(\"Unique Origin values:\", df_filtered['Origin'].unique())\n",
    "origin_counts = df_filtered['Origin'].value_counts()\n",
    "print(origin_counts)"
   ]
  },
  {
   "cell_type": "markdown",
   "id": "cdfc6355",
   "metadata": {},
   "source": [
    "### Handling `Unknown` in `Origin`\n",
    "\n",
    "In the `Origin` column, I found a small subset of listings (16 rows) labeled as `\"Unknown\"`. This value likely indicates that the seller did not specify the car’s origin when listing it.\n",
    "\n",
    "### Is `\"Unknown\"` just missing data?\n",
    "Yes from a data standpoint, it reflects **missing or undisclosed information**, not a meaningful car specification like \"Saudi\" or \"Other\". However, it can still carry business value.\n",
    "\n",
    "### 🤔 Why not merge `\"Unknown\"` into `\"Other\"`?\n",
    "While both differ from local (`Saudi`) or regional (`Gulf Arabic`) origins, `\"Unknown\"` and `\"Other\"` have **different meanings**:\n",
    "\n",
    "| Origin         | Real-World Meaning                                                                 | Possible Buyer Perception / Price Reality in Data                        |\n",
    "|----------------|-------------------------------------------------------------------------------------|------------------------------------------|\n",
    "| `Saudi`        | Car originally sold in Saudi Arabia with GCC specs                                 | Most desirable: local specs, easy resale. Most common: lower median price (market baseline) |\n",
    "| `Gulf Arabic`  | Imported from another GCC country (e.g. UAE, Kuwait)                               | Trusted, often premium imports; highest prices in data |\n",
    "| `Other`        | Imported from outside GCC (e.g. US, Europe, Japan); often foreign-spec             | Least desirable: spec mismatch risk      |\n",
    "| `Unknown`      | Seller did not disclose origin (left blank or chose \"Not Sure\")                   | Treated with caution: trust/risk penalty |\n",
    "\n",
    "Merging them would hide this distinction and reduce the model’s ability to learn the subtle impact of **undisclosed origin** vs. **foreign origin**. If `\"Unknown\"` is merged with `\"Other\"`, we would unintentionally state that they are made/imported outside of GCC which has a completely different meaning unlike a normal \"Other\" value in other features.\n",
    "\n",
    "### Decision: Keep `\"Unknown\"` as its own category\n",
    "- It allows the model to **learn the pricing penalty** associated with incomplete listings.\n",
    "- It makes **interpretation easier**, especially with SHAP or business explanations.\n",
    "- It **prepares the model for production**, where `\"Unknown\"` may continue to appear in new listings.\n",
    "\n",
    "I will retain `\"Unknown\"` as a separate label throughout the pipeline (training, validation, and inference)."
   ]
  },
  {
   "cell_type": "code",
   "execution_count": 54,
   "id": "47d8fe6f",
   "metadata": {},
   "outputs": [
    {
     "name": "stdout",
     "output_type": "stream",
     "text": [
      "Possible near-duplicate or inconsistent Origin labels:\n",
      "Series([], dtype: object)\n"
     ]
    }
   ],
   "source": [
    "# 2. Check for possible typos/inconsistencies\n",
    "origin_raw = pd.Series(df_filtered['Origin'].unique())\n",
    "suspect_origin = origin_raw[origin_raw.str.strip().str.lower().duplicated(keep=False)]\n",
    "print(\"Possible near-duplicate or inconsistent Origin labels:\")\n",
    "print(suspect_origin)"
   ]
  },
  {
   "cell_type": "code",
   "execution_count": 56,
   "id": "f67ef511",
   "metadata": {},
   "outputs": [
    {
     "data": {
      "image/png": "[encoded data removed]",
      "text/plain": [
       "<Figure size 700x400 with 1 Axes>"
      ]
     },
     "metadata": {},
     "output_type": "display_data"
    }
   ],
   "source": [
    "# 3. Visualize\n",
    "import matplotlib.pyplot as plt\n",
    "plt.figure(figsize=(7, 4))\n",
    "origin_counts.plot(kind='bar')\n",
    "plt.title('Distribution of Origin')\n",
    "plt.ylabel('Count')\n",
    "plt.xlabel('Origin')\n",
    "plt.xticks(rotation=0)\n",
    "plt.show()"
   ]
  },
  {
   "cell_type": "code",
   "execution_count": 57,
   "id": "546b45f8",
   "metadata": {},
   "outputs": [
    {
     "name": "stdout",
     "output_type": "stream",
     "text": [
      "Origin\n",
      "Saudi          75.65\n",
      "Gulf Arabic    12.94\n",
      "Other          10.98\n",
      "Unknown         0.42\n",
      "Name: proportion, dtype: float64\n"
     ]
    }
   ],
   "source": [
    "origin_percentages = (df_filtered['Origin'].value_counts(normalize=True) * 100).round(2)\n",
    "print(origin_percentages)"
   ]
  },
  {
   "cell_type": "code",
   "execution_count": 61,
   "id": "1e8a0bd2",
   "metadata": {},
   "outputs": [
    {
     "data": {
      "image/png": "[encoded data removed]",
      "text/plain": [
       "<Figure size 800x500 with 1 Axes>"
      ]
     },
     "metadata": {},
     "output_type": "display_data"
    }
   ],
   "source": [
    "# 4. Visualize price distribution by Origin\n",
    "plt.figure(figsize=(8, 5))\n",
    "sns.boxplot(x='Origin', y='Price', data=df_filtered)\n",
    "plt.title('Car Price Distribution by Origin')\n",
    "plt.xlabel('Origin')\n",
    "plt.ylabel('Price (SAR)')\n",
    "plt.show()"
   ]
  },
  {
   "cell_type": "code",
   "execution_count": 66,
   "id": "bed637dc",
   "metadata": {},
   "outputs": [
    {
     "data": {
      "text/html": [
       "<div>\n",
       "<style scoped>\n",
       "    .dataframe tbody tr th:only-of-type {\n",
       "        vertical-align: middle;\n",
       "    }\n",
       "\n",
       "    .dataframe tbody tr th {\n",
       "        vertical-align: top;\n",
       "    }\n",
       "\n",
       "    .dataframe thead th {\n",
       "        text-align: right;\n",
       "    }\n",
       "</style>\n",
       "<table border=\"1\" class=\"dataframe\">\n",
       "  <thead>\n",
       "    <tr style=\"text-align: right;\">\n",
       "      <th></th>\n",
       "      <th>count</th>\n",
       "      <th>mean</th>\n",
       "      <th>std</th>\n",
       "      <th>min</th>\n",
       "      <th>25%</th>\n",
       "      <th>50%</th>\n",
       "      <th>75%</th>\n",
       "      <th>max</th>\n",
       "    </tr>\n",
       "    <tr>\n",
       "      <th>Origin</th>\n",
       "      <th></th>\n",
       "      <th></th>\n",
       "      <th></th>\n",
       "      <th></th>\n",
       "      <th></th>\n",
       "      <th></th>\n",
       "      <th></th>\n",
       "      <th></th>\n",
       "    </tr>\n",
       "  </thead>\n",
       "  <tbody>\n",
       "    <tr>\n",
       "      <th>Gulf Arabic</th>\n",
       "      <td>495.0</td>\n",
       "      <td>112519.084848</td>\n",
       "      <td>91021.768785</td>\n",
       "      <td>1310.0</td>\n",
       "      <td>54500.0</td>\n",
       "      <td>86000.0</td>\n",
       "      <td>139500.0</td>\n",
       "      <td>748000.0</td>\n",
       "    </tr>\n",
       "    <tr>\n",
       "      <th>Other</th>\n",
       "      <td>420.0</td>\n",
       "      <td>84375.226190</td>\n",
       "      <td>84742.237843</td>\n",
       "      <td>500.0</td>\n",
       "      <td>27000.0</td>\n",
       "      <td>65000.0</td>\n",
       "      <td>110250.0</td>\n",
       "      <td>800000.0</td>\n",
       "    </tr>\n",
       "    <tr>\n",
       "      <th>Saudi</th>\n",
       "      <td>2893.0</td>\n",
       "      <td>71310.076391</td>\n",
       "      <td>65369.388380</td>\n",
       "      <td>1.0</td>\n",
       "      <td>35000.0</td>\n",
       "      <td>55000.0</td>\n",
       "      <td>82000.0</td>\n",
       "      <td>850000.0</td>\n",
       "    </tr>\n",
       "    <tr>\n",
       "      <th>Unknown</th>\n",
       "      <td>16.0</td>\n",
       "      <td>56937.500000</td>\n",
       "      <td>44198.369125</td>\n",
       "      <td>10000.0</td>\n",
       "      <td>23500.0</td>\n",
       "      <td>42250.0</td>\n",
       "      <td>75750.0</td>\n",
       "      <td>175000.0</td>\n",
       "    </tr>\n",
       "  </tbody>\n",
       "</table>\n",
       "</div>"
      ],
      "text/plain": [
       "              count           mean           std      min      25%      50%  \\\n",
       "Origin                                                                        \n",
       "Gulf Arabic   495.0  112519.084848  91021.768785   1310.0  54500.0  86000.0   \n",
       "Other         420.0   84375.226190  84742.237843    500.0  27000.0  65000.0   \n",
       "Saudi        2893.0   71310.076391  65369.388380      1.0  35000.0  55000.0   \n",
       "Unknown        16.0   56937.500000  44198.369125  10000.0  23500.0  42250.0   \n",
       "\n",
       "                  75%       max  \n",
       "Origin                           \n",
       "Gulf Arabic  139500.0  748000.0  \n",
       "Other        110250.0  800000.0  \n",
       "Saudi         82000.0  850000.0  \n",
       "Unknown       75750.0  175000.0  "
      ]
     },
     "execution_count": 66,
     "metadata": {},
     "output_type": "execute_result"
    }
   ],
   "source": [
    "# Print descriptive statistics of Price grouped by Origin\n",
    "price_stats_by_origin = df_filtered.groupby('Origin')['Price'].describe().sort_values(by='50%', ascending=False)\n",
    "price_stats_by_origin"
   ]
  },
  {
   "cell_type": "markdown",
   "id": "021912df",
   "metadata": {},
   "source": [
    "Based on the filtered fixed-price listings, here’s what I observe:\n",
    "\n",
    "**Key Takeaways**\n",
    "\n",
    "1. **Gulf Arabic** cars have the **highest average and median prices**, with a wide spread and several high-end outliers.  \n",
    "2. **Other** (non-GCC imports) sit in the middle—more expensive than local Saudi stock but less than Gulf Arabic.\n",
    "3. **Saudi**-origin cars represent the bulk of the market and cluster around lower price points (median 55k SAR).  \n",
    "4. **Unknown** listings (n=16) have the **lowest median price** but too few samples for strong conclusions.\n",
    "\n",
    "> **Conclusion:** There is a clear step-up in price from Saudi → Other → Gulf Arabic, reflecting differing supply channels and buyer willingness to pay. \"Unknown\" listings underperform relative to all specified origins, suggesting possible information-gap discounts."
   ]
  },
  {
   "cell_type": "markdown",
   "id": "79e07f13",
   "metadata": {},
   "source": [
    "### 🔍 Feature Analysis: `Origin`\n",
    "\n",
    "**Unique Values:** 4 → `Saudi`, `Gulf Arabic`, `Other`, `Unknown`\n",
    "\n",
    "| Origin         | Count | % of Data | Mean Price (SAR) | Median Price (SAR) |\n",
    "|----------------|-------|-----------|------------------|--------------------|\n",
    "| Saudi          | 2,893 | 75.7%     | 71,310           | 55,000             |\n",
    "| Gulf Arabic    | 495   | 12.9%     | 112,519          | 86,000             |\n",
    "| Other          | 420   | 11.0%     | 84,375           | 65,000             |\n",
    "| Unknown        | 16    | 0.4%      | 56,938           | 42,250             |\n",
    "\n",
    "### 💡 Business & Data Insights\n",
    "\n",
    "| Origin         | Meaning (Business)                                         | Buyer Perception & Price Signal (in Data)         |\n",
    "|----------------|------------------------------------------------------------|---------------------------------------------------|\n",
    "| **Saudi**      | Locally purchased, GCC specs                               | Most common; **lowest prices**, baseline market   |\n",
    "| **Gulf Arabic**| Imported from another GCC country (UAE, Kuwait, etc.)      | Trusted, often premium; **highest prices in data**|\n",
    "| **Other**      | Imported outside GCC (US, Europe, Asia); foreign spec      | Discounted due to risk/spec mismatch; **mid-range**|\n",
    "| **Unknown**    | Seller did not specify origin (missing disclosure)         | Least trusted; **lowest prices, trust penalty**   |\n",
    "\n",
    "### ⚠️ Implications for Modeling\n",
    "\n",
    "- **Gulf Arabic** cars fetch the highest prices, likely reflecting more premium imports.\n",
    "- **Saudi** cars are most abundant but cluster at lower prices (market baseline).\n",
    "- **Other** imports are discounted, as expected for non-local specs.\n",
    "- **Unknown** receives the lowest prices, confirming a trust or information penalty.\n",
    "- No typos or inconsistencies found; all values will be retained as-is.\n",
    "\n",
    "**Bottom Line:**  \n",
    "`Origin` is a strong price driver with real-world business meaning, clear data-backed segments, and will provide valuable predictive power to the model.\n"
   ]
  },
  {
   "cell_type": "markdown",
   "id": "7ec5ef15",
   "metadata": {},
   "source": [
    "## Options"
   ]
  },
  {
   "cell_type": "markdown",
   "id": "693b8d33",
   "metadata": {},
   "source": [
    "### 1. **What does the `Options` feature represent?**\n",
    "\n",
    "* **Business Meaning:**\n",
    "  In the context of Saudi used car listings, **`Options`** typically refers to the **trim level or option package** of the car.\n",
    "\n",
    "  * **Standard:** The basic version with the fewest features (manual A/C, cloth seats, simple audio, etc.)\n",
    "  * **Semi Full:** Mid-level trim, adds some comfort or tech (e.g. better sound system, alloy wheels, parking sensors).\n",
    "  * **Full:** The top spec, often with all available options (leather seats, sunroof, advanced safety, full infotainment, etc.)\n",
    "\n",
    "This feature is **crucial** because in the Middle East, buyers place high value on luxury features, even within the same model/year.\n",
    "\n",
    "### 2. **What to Look For**\n",
    "\n",
    "* Are there only “Standard”, “Semi Full”, “Full” (or other, unexpected/rare/typo values)?\n",
    "* Does one level dominate? (Often “Full” is highly desirable and priced higher.)\n",
    "* Are there inconsistent spellings or cases? (e.g., “semi full” vs. “Semi Full”)\n",
    "* Is there a price step-up across option levels?"
   ]
  },
  {
   "cell_type": "markdown",
   "id": "93a8981e",
   "metadata": {},
   "source": [
    "## Price"
   ]
  },
  {
   "cell_type": "code",
   "execution_count": 35,
   "id": "05f20ae2",
   "metadata": {},
   "outputs": [
    {
     "data": {
      "image/png": "[encoded data removed]",
      "text/plain": [
       "<Figure size 1500x500 with 2 Axes>"
      ]
     },
     "metadata": {},
     "output_type": "display_data"
    }
   ],
   "source": [
    "# Set up the figure with two subplots\n",
    "fig, (ax1, ax2) = plt.subplots(1, 2, figsize=(15, 5))\n",
    "\n",
    "# Plot histogram with KDE\n",
    "sns.histplot(df['Price'], kde=True, ax=ax1)\n",
    "ax1.set_title('Distribution of Car Prices')\n",
    "ax1.set_xlabel('Price (SAR)')\n",
    "ax1.set_ylabel('Frequency')\n",
    "\n",
    "# Plot boxplot\n",
    "sns.boxplot(y=df['Price'], ax=ax2)\n",
    "ax2.set_title('Boxplot of Car Prices')\n",
    "ax2.set_ylabel('Price (SAR)')\n",
    "\n",
    "plt.tight_layout()\n",
    "plt.show()"
   ]
  },
  {
   "cell_type": "code",
   "execution_count": 36,
   "id": "4fc2476c",
   "metadata": {},
   "outputs": [
    {
     "name": "stdout",
     "output_type": "stream",
     "text": [
      "Number of outliers: 261\n",
      "Percentage of outliers: 4.64%\n",
      "Lower bound: -109500.00\n",
      "Upper bound: 182500.00\n",
      "\n",
      "Statistics of outliers:\n",
      "count       261.000000\n",
      "mean     284848.275862\n",
      "std      102655.374765\n",
      "min      183000.000000\n",
      "25%      220000.000000\n",
      "50%      251500.000000\n",
      "75%      325000.000000\n",
      "max      850000.000000\n",
      "Name: Price, dtype: float64\n"
     ]
    }
   ],
   "source": [
    "# Calculate IQR for Price\n",
    "Q1 = df['Price'].quantile(0.25)\n",
    "Q3 = df['Price'].quantile(0.75)\n",
    "IQR = Q3 - Q1\n",
    "\n",
    "# Define outliers as values below (Q1 - 1.5*IQR) or above (Q3 + 1.5*IQR)\n",
    "lower_bound = Q1 - 1.5 * IQR\n",
    "upper_bound = Q3 + 1.5 * IQR\n",
    "\n",
    "# Identify outliers\n",
    "outliers = df[(df['Price'] < lower_bound) | (df['Price'] > upper_bound)]\n",
    "\n",
    "# Count outliers and calculate percentage\n",
    "outlier_count = len(outliers)\n",
    "outlier_percentage = (outlier_count / len(df)) * 100\n",
    "\n",
    "print(f\"Number of outliers: {outlier_count}\")\n",
    "print(f\"Percentage of outliers: {outlier_percentage:.2f}%\")\n",
    "print(f\"Lower bound: {lower_bound:.2f}\")\n",
    "print(f\"Upper bound: {upper_bound:.2f}\")\n",
    "\n",
    "# Display statistics of outliers\n",
    "print(\"\\nStatistics of outliers:\")\n",
    "print(outliers['Price'].describe())"
   ]
  },
  {
   "cell_type": "markdown",
   "id": "6a6c00f2",
   "metadata": {},
   "source": [
    "### Test after removing Negotiable prices"
   ]
  },
  {
   "cell_type": "code",
   "execution_count": 37,
   "id": "83394f4e",
   "metadata": {},
   "outputs": [
    {
     "data": {
      "image/png": "[encoded data removed]",
      "text/plain": [
       "<Figure size 1500x500 with 2 Axes>"
      ]
     },
     "metadata": {},
     "output_type": "display_data"
    }
   ],
   "source": [
    "# Set up the figure with two subplots\n",
    "fig, (ax1, ax2) = plt.subplots(1, 2, figsize=(15, 5))\n",
    "\n",
    "# Plot histogram with KDE\n",
    "sns.histplot(df_filtered['Price'], kde=True, ax=ax1)\n",
    "ax1.set_title('Distribution of Car Prices')\n",
    "ax1.set_xlabel('Price (SAR)')\n",
    "ax1.set_ylabel('Frequency')\n",
    "\n",
    "# Plot boxplot\n",
    "sns.boxplot(y=df_filtered['Price'], ax=ax2)\n",
    "ax2.set_title('Boxplot of Car Prices')\n",
    "ax2.set_ylabel('Price (SAR)')\n",
    "\n",
    "plt.tight_layout()\n",
    "plt.show()"
   ]
  },
  {
   "cell_type": "code",
   "execution_count": 38,
   "id": "463419da",
   "metadata": {},
   "outputs": [
    {
     "name": "stdout",
     "output_type": "stream",
     "text": [
      "Number of outliers: 259\n",
      "Percentage of outliers: 6.77%\n",
      "Lower bound: -53875.00\n",
      "Upper bound: 183125.00\n",
      "\n",
      "Statistics of outliers:\n",
      "count       259.000000\n",
      "mean     285634.749035\n",
      "std      102658.582321\n",
      "min      185000.000000\n",
      "25%      220000.000000\n",
      "50%      252000.000000\n",
      "75%      325000.000000\n",
      "max      850000.000000\n",
      "Name: Price, dtype: float64\n"
     ]
    }
   ],
   "source": [
    "# Calculate IQR for Price\n",
    "Q1 = df_filtered['Price'].quantile(0.25)\n",
    "Q3 = df_filtered['Price'].quantile(0.75)\n",
    "IQR = Q3 - Q1\n",
    "\n",
    "# Define outliers as values below (Q1 - 1.5*IQR) or above (Q3 + 1.5*IQR)\n",
    "lower_bound = Q1 - 1.5 * IQR\n",
    "upper_bound = Q3 + 1.5 * IQR\n",
    "\n",
    "# Identify outliers\n",
    "outliers = df_filtered[(df_filtered['Price'] < lower_bound) | (df_filtered['Price'] > upper_bound)]\n",
    "\n",
    "# Count outliers and calculate percentage\n",
    "outlier_count = len(outliers)\n",
    "outlier_percentage = (outlier_count / len(df_filtered)) * 100\n",
    "\n",
    "print(f\"Number of outliers: {outlier_count}\")\n",
    "print(f\"Percentage of outliers: {outlier_percentage:.2f}%\")\n",
    "print(f\"Lower bound: {lower_bound:.2f}\")\n",
    "print(f\"Upper bound: {upper_bound:.2f}\")\n",
    "\n",
    "# Display statistics of outliers\n",
    "print(\"\\nStatistics of outliers:\")\n",
    "print(outliers['Price'].describe())"
   ]
  }
 ],
 "metadata": {
  "kernelspec": {
   "display_name": "base",
   "language": "python",
   "name": "python3"
  },
  "language_info": {
   "codemirror_mode": {
    "name": "ipython",
    "version": 3
   },
   "file_extension": ".py",
   "mimetype": "text/x-python",
   "name": "python",
   "nbconvert_exporter": "python",
   "pygments_lexer": "ipython3",
   "version": "3.12.3"
  }
 },
 "nbformat": 4,
 "nbformat_minor": 5
}
